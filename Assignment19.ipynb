{
 "cells": [
  {
   "cell_type": "code",
   "execution_count": 1,
   "metadata": {},
   "outputs": [],
   "source": [
    "def multichar(text, n):\n",
    "    return ''.join([x * n for x in text])"
   ]
  },
  {
   "cell_type": "code",
   "execution_count": 2,
   "metadata": {},
   "outputs": [
    {
     "data": {
      "text/plain": [
       "'SSStttrrriiinnnggg'"
      ]
     },
     "execution_count": 2,
     "metadata": {},
     "output_type": "execute_result"
    }
   ],
   "source": [
    "multichar(\"String\",3)"
   ]
  },
  {
   "cell_type": "code",
   "execution_count": 11,
   "metadata": {},
   "outputs": [],
   "source": [
    "def reverse(arg=None):\n",
    "    if type(arg) == bool:\n",
    "        return not arg\n",
    "    else:\n",
    "        print(\"boolean expected\")"
   ]
  },
  {
   "cell_type": "code",
   "execution_count": 12,
   "metadata": {},
   "outputs": [
    {
     "data": {
      "text/plain": [
       "False"
      ]
     },
     "execution_count": 12,
     "metadata": {},
     "output_type": "execute_result"
    }
   ],
   "source": [
    "reverse(True)"
   ]
  },
  {
   "cell_type": "code",
   "execution_count": 1,
   "metadata": {},
   "outputs": [],
   "source": [
    "def fn(a):\n",
    "    a=int(input(\"Enter a number fopr ppaer folds \"))\n",
    "    res = 0.5\n",
    "    for _ in range(a):\n",
    "        res *= 2\n",
    "        M=res / 1000 \n",
    "    print(\"Paper folded 21 times is \"+str(M)+\"m\")"
   ]
  },
  {
   "cell_type": "code",
   "execution_count": 2,
   "metadata": {},
   "outputs": [
    {
     "name": "stdout",
     "output_type": "stream",
     "text": [
      "Enter a number fopr ppaer folds 21\n",
      "Paper folded 21 times is 1048.576m\n"
     ]
    }
   ],
   "source": [
    "fn(1)"
   ]
  },
  {
   "cell_type": "code",
   "execution_count": 5,
   "metadata": {},
   "outputs": [
    {
     "name": "stdout",
     "output_type": "stream",
     "text": [
      "Enter a string:AkhilEsH\n",
      "The original string is : AkhilEsH\n",
      "Uppercase elements indices : [0, 5, 7]\n"
     ]
    }
   ],
   "source": [
    "test_str =input(\"Enter a string:\")\n",
    "print(\"The original string is : \" + str(test_str))\n",
    "res = [idx for idx in range(len(test_str)) if test_str[idx].isupper()]\n",
    "print(\"Uppercase elements indices : \" + str(res))"
   ]
  },
  {
   "cell_type": "code",
   "execution_count": 11,
   "metadata": {},
   "outputs": [
    {
     "name": "stdout",
     "output_type": "stream",
     "text": [
      "Enter a number:8\n",
      "[2, 4, 6, 8]\n"
     ]
    }
   ],
   "source": [
    "EVen=input(\"Enter a number:\")\n",
    "even_nums = []\n",
    "for x in range(2,int(EVen)+1):\n",
    "    if x%2 == 0:\n",
    "        even_nums.append(x)\n",
    "print(even_nums)"
   ]
  },
  {
   "cell_type": "code",
   "execution_count": null,
   "metadata": {},
   "outputs": [],
   "source": []
  }
 ],
 "metadata": {
  "kernelspec": {
   "display_name": "Python 3",
   "language": "python",
   "name": "python3"
  },
  "language_info": {
   "codemirror_mode": {
    "name": "ipython",
    "version": 3
   },
   "file_extension": ".py",
   "mimetype": "text/x-python",
   "name": "python",
   "nbconvert_exporter": "python",
   "pygments_lexer": "ipython3",
   "version": "3.8.5"
  }
 },
 "nbformat": 4,
 "nbformat_minor": 4
}
