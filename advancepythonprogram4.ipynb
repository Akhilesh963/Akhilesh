{
 "cells": [
  {
   "cell_type": "code",
   "execution_count": 19,
   "metadata": {},
   "outputs": [
    {
     "name": "stdout",
     "output_type": "stream",
     "text": [
      "Enter a number:12\n",
      "89\n"
     ]
    }
   ],
   "source": [
    "FibArray = [0, 1]\n",
    "def fibonacci(n):\n",
    "    if n<0:\n",
    "        print(\"Incorrect input\")\n",
    "    elif n<= len(FibArray):\n",
    "        return FibArray[n-1]\n",
    "    else:\n",
    "        temp_fib = fibonacci(n-1)+fibonacci(n-2)\n",
    "        FibArray.append(temp_fib)\n",
    "        return temp_fib \n",
    "print(fibonacci(int(input(\"Enter a number:\"))))\n",
    " "
   ]
  },
  {
   "cell_type": "code",
   "execution_count": 20,
   "metadata": {},
   "outputs": [
    {
     "name": "stdout",
     "output_type": "stream",
     "text": [
      "Enter a string:Big Boi\n",
      "42696720426f69\n"
     ]
    }
   ],
   "source": [
    "def ASCIItoHEX(ascii):\n",
    "    hexa = \"\"\n",
    "    for i in range(len(ascii)):\n",
    "        ch = ascii[i]\n",
    "        in1 = ord(ch)\n",
    "        part = hex(in1).lstrip(\"0x\").rstrip(\"L\")\n",
    "        hexa += part\n",
    "    return hexa\n",
    "if __name__ == '__main__':\n",
    "    print(ASCIItoHEX(input(\"Enter a string:\")))"
   ]
  },
  {
   "cell_type": "code",
   "execution_count": 22,
   "metadata": {},
   "outputs": [
    {
     "name": "stdout",
     "output_type": "stream",
     "text": [
      "Where did my vowels go?\n"
     ]
    }
   ],
   "source": [
    "def uncensor(string, vowels):\n",
    "  new_ = \"\"\n",
    "  counter = 0\n",
    "  for i in range(len(string)):\n",
    "    if string[i] == \"*\":\n",
    "      new_ += vowels[counter]\n",
    "      counter += 1\n",
    "    else:\n",
    "      new_ += string[i]\n",
    "  return new_\n",
    " \n",
    "print(uncensor(\"Wh*r* d*d my v*w*ls g*?\", \"eeioeo\"))"
   ]
  },
  {
   "cell_type": "code",
   "execution_count": null,
   "metadata": {},
   "outputs": [],
   "source": [
    "import dnspython as dns\n",
    "import dns.resolver\n",
    "\n",
    "result = dns.resolver.query('tutorialspoint.com', 'A')\n",
    "for ipval in result:\n",
    "    print('IP', ipval.to_text())"
   ]
  },
  {
   "cell_type": "code",
   "execution_count": 32,
   "metadata": {},
   "outputs": [
    {
     "name": "stdout",
     "output_type": "stream",
     "text": [
      "Input a number to compute the factiorial : 5\n",
      "120\n"
     ]
    }
   ],
   "source": [
    "def factorial(n):\n",
    "    if n == 0:\n",
    "        return 1\n",
    "    else:\n",
    "        return n * factorial(n-1)\n",
    "n=int(input(\"Input a number to compute the factiorial : \"))\n",
    "print(factorial(n))"
   ]
  },
  {
   "cell_type": "code",
   "execution_count": null,
   "metadata": {},
   "outputs": [],
   "source": []
  }
 ],
 "metadata": {
  "kernelspec": {
   "display_name": "Python 3",
   "language": "python",
   "name": "python3"
  },
  "language_info": {
   "codemirror_mode": {
    "name": "ipython",
    "version": 3
   },
   "file_extension": ".py",
   "mimetype": "text/x-python",
   "name": "python",
   "nbconvert_exporter": "python",
   "pygments_lexer": "ipython3",
   "version": "3.8.5"
  }
 },
 "nbformat": 4,
 "nbformat_minor": 4
}
