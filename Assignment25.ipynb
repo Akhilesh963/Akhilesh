{
 "cells": [
  {
   "cell_type": "code",
   "execution_count": 69,
   "metadata": {},
   "outputs": [
    {
     "name": "stdout",
     "output_type": "stream",
     "text": [
      "0\n",
      "0\n",
      "0\n",
      "6\n"
     ]
    }
   ],
   "source": [
    "def sum(x, y, z):\n",
    "    if x == y or y == z or x==z:\n",
    "        sum = 0\n",
    "    else:\n",
    "        sum = x + y + z\n",
    "    return sum\n",
    "\n",
    "print(sum(2, 1, 2))\n",
    "print(sum(3, 2, 2))\n",
    "print(sum(2, 2, 2))\n",
    "print(sum(1, 2, 3))"
   ]
  },
  {
   "cell_type": "code",
   "execution_count": 6,
   "metadata": {},
   "outputs": [
    {
     "name": "stdout",
     "output_type": "stream",
     "text": [
      "[List(name='likes', value=2), List(name='dislikes', value=3), List(name='followers', value=10)]\n"
     ]
    }
   ],
   "source": [
    "dict_to_list={\"likes\": 2,\"dislikes\": 3,\"followers\": 10}\n",
    "import collections\n",
    "list_of_tuple = collections.namedtuple('List', 'name value')  \n",
    "lists = list(list_of_tuple(*item) for item in dict_to_list.items())\n",
    "print(lists)"
   ]
  },
  {
   "cell_type": "code",
   "execution_count": 7,
   "metadata": {},
   "outputs": [
    {
     "name": "stdout",
     "output_type": "stream",
     "text": [
      "Given Sting: Geeks for Geeks\n",
      "Given Specified Character: #\n",
      "Afer replacing vowels with the specified character: G##ks f#r G##ks\n"
     ]
    }
   ],
   "source": [
    "def replaceVowelsWithK(test_str, K):\n",
    "    vowels = 'AEIOUaeiou'\n",
    "    for ele in vowels:\n",
    "        test_str = test_str.replace(ele, K)\n",
    "  \n",
    "    return test_str\n",
    "input_str = \"Geeks for Geeks\"\n",
    "K = \"#\"\n",
    "print(\"Given Sting:\", input_str)\n",
    "print(\"Given Specified Character:\", K)\n",
    "print(\"Afer replacing vowels with the specified character:\",\n",
    "      replaceVowelsWithK(input_str, K))"
   ]
  },
  {
   "cell_type": "code",
   "execution_count": 9,
   "metadata": {},
   "outputs": [
    {
     "name": "stdout",
     "output_type": "stream",
     "text": [
      "the little mermaid\n"
     ]
    }
   ],
   "source": [
    "def convertOpposite(str):\n",
    "    ln = len(str)\n",
    "    for i in range(ln):\n",
    "        if str[i] >= 'a' and str[i] <= 'z':\n",
    "            str[i] = chr(ord(str[i]) - 32)\n",
    " \n",
    "        elif str[i] >= 'A' and str[i] <= 'Z':\n",
    "            str[i] = chr(ord(str[i]) + 32)\n",
    "if __name__ == \"__main__\":\n",
    "    str = \"THE LITTLE MERMAID\"\n",
    "    str = list(str)\n",
    "    convertOpposite(str)\n",
    "    str = ''.join(str)\n",
    "    print(str)"
   ]
  },
  {
   "cell_type": "code",
   "execution_count": 11,
   "metadata": {},
   "outputs": [
    {
     "name": "stdout",
     "output_type": "stream",
     "text": [
      "GGFDD\n",
      "MY NAME IS YOYO\n"
     ]
    }
   ],
   "source": [
    "string = 'gGfdD'\n",
    "print(string.upper()) \n",
    "string = 'My name is yoYo'\n",
    "print(string.upper())"
   ]
  },
  {
   "cell_type": "code",
   "execution_count": null,
   "metadata": {},
   "outputs": [],
   "source": []
  }
 ],
 "metadata": {
  "kernelspec": {
   "display_name": "Python 3",
   "language": "python",
   "name": "python3"
  },
  "language_info": {
   "codemirror_mode": {
    "name": "ipython",
    "version": 3
   },
   "file_extension": ".py",
   "mimetype": "text/x-python",
   "name": "python",
   "nbconvert_exporter": "python",
   "pygments_lexer": "ipython3",
   "version": "3.8.5"
  }
 },
 "nbformat": 4,
 "nbformat_minor": 4
}
