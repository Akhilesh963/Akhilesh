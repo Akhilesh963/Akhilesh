{
 "cells": [
  {
   "cell_type": "code",
   "execution_count": 2,
   "metadata": {},
   "outputs": [
    {
     "name": "stdout",
     "output_type": "stream",
     "text": [
      "True\n"
     ]
    }
   ],
   "source": [
    "def common_data(list1, list2):\n",
    "     result = False\n",
    "     for x in list1:\n",
    "         for y in list2:\n",
    "             if x == y:\n",
    "                 result = True\n",
    "                 return result\n",
    "print(common_data([1,2,3,4,5], [5,6,7,8,9]))"
   ]
  },
  {
   "cell_type": "code",
   "execution_count": 15,
   "metadata": {},
   "outputs": [
    {
     "name": "stdout",
     "output_type": "stream",
     "text": [
      "HNLC\n"
     ]
    }
   ],
   "source": [
    "def firstLetterWord(str):\n",
    "    result = \"\"\n",
    "    v = True\n",
    "    for i in range(len(str)):\n",
    "        if (str[i] == ' '):\n",
    "            v = True\n",
    "        elif (str[i] != ' ' and v == True):\n",
    "            result += (str[i])\n",
    "            v = False\n",
    " \n",
    "    return result\n",
    "if __name__ == \"__main__\":\n",
    "     \n",
    "    str = \"Harry Newt Luna Cho\"\n",
    "    print(firstLetterWord(str))"
   ]
  },
  {
   "cell_type": "code",
   "execution_count": 18,
   "metadata": {},
   "outputs": [
    {
     "name": "stdout",
     "output_type": "stream",
     "text": [
      "False\n"
     ]
    }
   ],
   "source": [
    "def is_isogram(word):\n",
    "    clean_word = word.lower()\n",
    "    letter_list = []\n",
    "    for letter in clean_word:\n",
    "        if letter.isalpha():\n",
    "            if letter in letter_list:\n",
    "                return False\n",
    "            letter_list.append(letter)\n",
    " \n",
    "    return True\n",
    " \n",
    "if __name__ == '__main__':\n",
    "    print(is_isogram(\"PasSword\"))                            "
   ]
  },
  {
   "cell_type": "code",
   "execution_count": 23,
   "metadata": {},
   "outputs": [
    {
     "name": "stdout",
     "output_type": "stream",
     "text": [
      "False\n"
     ]
    }
   ],
   "source": [
    "def isAlphabaticOrder(s):\n",
    "    n = len(s)\n",
    "    c = [s[i] for i in range(len(s))]\n",
    "    c.sort(reverse = False)\n",
    "    for i in range(n):\n",
    "        if (c[i] != s[i]):\n",
    "            return False\n",
    "         \n",
    "    return True\n",
    "if __name__ == '__main__':\n",
    "    s = \"edabit\"\n",
    "    if (isAlphabaticOrder(s)):\n",
    "        print(\"True\")\n",
    "    else:\n",
    "        print(\"False\")"
   ]
  },
  {
   "cell_type": "code",
   "execution_count": null,
   "metadata": {},
   "outputs": [],
   "source": []
  }
 ],
 "metadata": {
  "kernelspec": {
   "display_name": "Python 3",
   "language": "python",
   "name": "python3"
  },
  "language_info": {
   "codemirror_mode": {
    "name": "ipython",
    "version": 3
   },
   "file_extension": ".py",
   "mimetype": "text/x-python",
   "name": "python",
   "nbconvert_exporter": "python",
   "pygments_lexer": "ipython3",
   "version": "3.8.5"
  }
 },
 "nbformat": 4,
 "nbformat_minor": 4
}
