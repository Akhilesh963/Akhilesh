{
 "cells": [
  {
   "cell_type": "code",
   "execution_count": 20,
   "metadata": {},
   "outputs": [
    {
     "name": "stdout",
     "output_type": "stream",
     "text": [
      "Enter a number:123\n",
      "Enter a number:243\n",
      "140,175,210\n"
     ]
    }
   ],
   "source": [
    "class divw5r7:\n",
    "    nl=[]\n",
    "    A=int(input(\"Enter a number:\"))\n",
    "    B=int(input(\"Enter a number:\"))\n",
    "    for x in range(A, B):\n",
    "        if (x%7==0) and (x%5==0):\n",
    "            nl.append(str(x))\n",
    "    print(','.join(nl))"
   ]
  },
  {
   "cell_type": "code",
   "execution_count": null,
   "metadata": {},
   "outputs": [],
   "source": []
  },
  {
   "cell_type": "code",
   "execution_count": 2,
   "metadata": {},
   "outputs": [
    {
     "name": "stdout",
     "output_type": "stream",
     "text": [
      "Enter a number:12\n",
      "0,2,4,6,8,10,12\n"
     ]
    }
   ],
   "source": [
    "class Evennum:\n",
    "    E=[]\n",
    "    N=int(input(\"Enter a number:\"))\n",
    "    for i in range(N+1):\n",
    "        if i%2==0:\n",
    "            E.append(str(i))\n",
    "    print(','.join(E))     "
   ]
  },
  {
   "cell_type": "code",
   "execution_count": null,
   "metadata": {},
   "outputs": [],
   "source": []
  },
  {
   "cell_type": "code",
   "execution_count": 17,
   "metadata": {},
   "outputs": [],
   "source": [
    "class fibnum:\n",
    "    def Fib(X):\n",
    "        X= int(input(\"Enter a number for Fibonacci:\"))\n",
    "        a1,a2,T=0,1,0\n",
    "        if X<0:\n",
    "            print(\"Enter correct number\")\n",
    "        elif X==0:\n",
    "            print(a1)\n",
    "        elif X>0:\n",
    "            print(a1,a2,end=\" \")\n",
    "            while T<X:\n",
    "                a3=a1+a2\n",
    "                print(a3,end=\" \")\n",
    "                a1=a2\n",
    "                a2=a3\n",
    "                T=T+1"
   ]
  },
  {
   "cell_type": "code",
   "execution_count": 18,
   "metadata": {},
   "outputs": [],
   "source": [
    "X=fibnum"
   ]
  },
  {
   "cell_type": "code",
   "execution_count": 19,
   "metadata": {},
   "outputs": [
    {
     "name": "stdout",
     "output_type": "stream",
     "text": [
      "Enter a number for Fibonacci:7\n",
      "0 1 1 2 3 5 8 13 21 "
     ]
    }
   ],
   "source": [
    "X.Fib(3)"
   ]
  },
  {
   "cell_type": "code",
   "execution_count": null,
   "metadata": {},
   "outputs": [],
   "source": []
  },
  {
   "cell_type": "code",
   "execution_count": 36,
   "metadata": {},
   "outputs": [
    {
     "name": "stdout",
     "output_type": "stream",
     "text": [
      "['john'] ['google']\n"
     ]
    }
   ],
   "source": [
    "import re\n",
    "email = \"john@google.com\"\n",
    "pattern = \"(\\w+)@\\w+.com\"\n",
    "patterns = \"\\w+@(\\w+).com\"\n",
    "ans = re.findall(pattern,email)\n",
    "ans1=re.findall(patterns,email)\n",
    "print(ans,ans1)"
   ]
  },
  {
   "cell_type": "code",
   "execution_count": null,
   "metadata": {},
   "outputs": [],
   "source": []
  },
  {
   "cell_type": "code",
   "execution_count": 37,
   "metadata": {},
   "outputs": [
    {
     "name": "stdout",
     "output_type": "stream",
     "text": [
      "25\n",
      "0\n"
     ]
    }
   ],
   "source": [
    "class Shape():\n",
    "    def __init__(self):\n",
    "        pass\n",
    "    def area(self):\n",
    "        return 0\n",
    "class Square(Shape):\n",
    "    def __init__(self,length = 0):\n",
    "        Shape.__init__(self)\n",
    "        self.length = length\n",
    "    def area(self):\n",
    "        return self.length*self.length\n",
    "Asqr = Square(5)\n",
    "print(Asqr.area())      \n",
    "print(Square().area())"
   ]
  },
  {
   "cell_type": "code",
   "execution_count": null,
   "metadata": {},
   "outputs": [],
   "source": []
  }
 ],
 "metadata": {
  "kernelspec": {
   "display_name": "Python 3",
   "language": "python",
   "name": "python3"
  },
  "language_info": {
   "codemirror_mode": {
    "name": "ipython",
    "version": 3
   },
   "file_extension": ".py",
   "mimetype": "text/x-python",
   "name": "python",
   "nbconvert_exporter": "python",
   "pygments_lexer": "ipython3",
   "version": "3.8.5"
  }
 },
 "nbformat": 4,
 "nbformat_minor": 4
}
