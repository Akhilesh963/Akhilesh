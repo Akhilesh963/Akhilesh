{
 "cells": [
  {
   "cell_type": "markdown",
   "metadata": {},
   "source": [
    "1)shutil.copytree() method recursively copies an entire directory tree rooted at source (src) to the destination directory.\n",
    "shutil.copy() method in Python is used to copy the content of source file to destination file or directory."
   ]
  },
  {
   "cell_type": "code",
   "execution_count": null,
   "metadata": {},
   "outputs": [],
   "source": [
    "2)os.rename() method in Python is used to rename a file or directory."
   ]
  },
  {
   "cell_type": "markdown",
   "metadata": {},
   "source": [
    "3)Using send2trash, we can send files to the Trash or Recycle Bin instead of permanently deleting them. The OS module’s unlink(), remove() and rmdir() functions can be used to delete files or folders. But, these functions delete the files permanently. The operations cannot be undone if there were any accidental deletions performed. This can be prevented using send2trash.\n",
    "Send2Trash is a small package that sends files to the Trash (or Recycle Bin) natively and on all platforms. To install it type the below command in the terminal.\n",
    "\n",
    "pip install send2trash"
   ]
  },
  {
   "cell_type": "markdown",
   "metadata": {},
   "source": [
    "4)zipfile.ZipFile() function"
   ]
  },
  {
   "cell_type": "markdown",
   "metadata": {},
   "source": [
    "5)import os, shutil\n",
    "\n",
    "def moveFileType(folder): \n",
    "  for root, dirs, files in os.walk(folder): \n",
    "               for file in files: \n",
    "                   if file.endswith('.jpg'):\n",
    "                    image_path=os.path.join(root,file)  # get the path location of each jpeg image.\n",
    "                    print 'location: ',image_path \n",
    "                    shutil.copy(image_path, '/home/anum/Documents/Stackoverflow questions')\n",
    "\n",
    "\n",
    "moveFileType('/home/anum/Pictures/')"
   ]
  }
 ],
 "metadata": {
  "kernelspec": {
   "display_name": "Python 3",
   "language": "python",
   "name": "python3"
  },
  "language_info": {
   "codemirror_mode": {
    "name": "ipython",
    "version": 3
   },
   "file_extension": ".py",
   "mimetype": "text/x-python",
   "name": "python",
   "nbconvert_exporter": "python",
   "pygments_lexer": "ipython3",
   "version": "3.8.5"
  }
 },
 "nbformat": 4,
 "nbformat_minor": 4
}
