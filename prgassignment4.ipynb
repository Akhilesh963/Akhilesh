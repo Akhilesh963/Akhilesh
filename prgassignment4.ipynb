{
 "cells": [
  {
   "cell_type": "code",
   "execution_count": null,
   "metadata": {},
   "outputs": [],
   "source": [
    "1) Write a Python Program to Find the Factorial of a Number"
   ]
  },
  {
   "cell_type": "code",
   "execution_count": 8,
   "metadata": {},
   "outputs": [],
   "source": [
    "def Factorial(X):\n",
    "    X= int(input(\"Enter a number for Factorial: \")) \n",
    "    if X < 0:\n",
    "        print(\"Check your given number\")\n",
    "    else:\n",
    "        if X>0:\n",
    "            F=1\n",
    "            for i in range(1,X+1):\n",
    "                F=F*i\n",
    "        print(\"Factorial of given number:\",F)"
   ]
  },
  {
   "cell_type": "code",
   "execution_count": 24,
   "metadata": {},
   "outputs": [
    {
     "name": "stdout",
     "output_type": "stream",
     "text": [
      "Enter a number for Factorial: 4\n",
      "Factorial of given number: 24\n"
     ]
    }
   ],
   "source": [
    "Factorial(8)"
   ]
  },
  {
   "cell_type": "code",
   "execution_count": null,
   "metadata": {},
   "outputs": [],
   "source": [
    "2) Write a Python Program to Display the multiplication Table?"
   ]
  },
  {
   "cell_type": "code",
   "execution_count": 12,
   "metadata": {},
   "outputs": [],
   "source": [
    "def Table(X):\n",
    "    X= int(input(\"Enter a number for Table:\"))\n",
    "    if X<0:\n",
    "        print(\"Enter a correct number\")\n",
    "    else:\n",
    "        if X>0:\n",
    "            print(\"Table for\",X,\"is\")\n",
    "            for i in range(1,11):\n",
    "                print(X,\"x\",i,\"=\",X*i)\n",
    "            "
   ]
  },
  {
   "cell_type": "code",
   "execution_count": 13,
   "metadata": {},
   "outputs": [
    {
     "name": "stdout",
     "output_type": "stream",
     "text": [
      "Enter a number for Table:9\n",
      "Table for 9 is\n",
      "9 x 1 = 9\n",
      "9 x 2 = 18\n",
      "9 x 3 = 27\n",
      "9 x 4 = 36\n",
      "9 x 5 = 45\n",
      "9 x 6 = 54\n",
      "9 x 7 = 63\n",
      "9 x 8 = 72\n",
      "9 x 9 = 81\n",
      "9 x 10 = 90\n"
     ]
    }
   ],
   "source": [
    "Table(7)"
   ]
  },
  {
   "cell_type": "code",
   "execution_count": null,
   "metadata": {},
   "outputs": [],
   "source": [
    "3) Write a Python Program to Print the Fibonacci sequence?"
   ]
  },
  {
   "cell_type": "code",
   "execution_count": 17,
   "metadata": {},
   "outputs": [],
   "source": [
    "def Fib(X):\n",
    "    X= int(input(\"Enter a number for Fibonacci:\"))\n",
    "    a1=0\n",
    "    a2=1\n",
    "    T=0\n",
    "    if X<0:\n",
    "        print(\"Enter correct number\")\n",
    "    elif X==0:\n",
    "        print(a1,\"\",end=\"\")\n",
    "    elif X>0:\n",
    "        print(a1,\" \",a2,end=\"\")\n",
    "        while T<X:\n",
    "            a3=a1+a2\n",
    "            print(a3,\"\",end=\"\")\n",
    "            a1=a2\n",
    "            a2=a3\n",
    "            T=T+1\n",
    "    "
   ]
  },
  {
   "cell_type": "code",
   "execution_count": 18,
   "metadata": {},
   "outputs": [
    {
     "name": "stdout",
     "output_type": "stream",
     "text": [
      "Enter a number for Fibonacci:9\n",
      "0   11 2 3 5 8 13 21 34 55 "
     ]
    }
   ],
   "source": [
    "Fib(6)"
   ]
  },
  {
   "cell_type": "code",
   "execution_count": null,
   "metadata": {},
   "outputs": [],
   "source": [
    "4) Write a Python Program to Check Armstrong Number?"
   ]
  },
  {
   "cell_type": "code",
   "execution_count": 19,
   "metadata": {},
   "outputs": [],
   "source": [
    "def Armstrong(X):\n",
    "    X= int(input(\"Enter a number for Armstrong:\"))\n",
    "    sum = 0\n",
    "    temp=X\n",
    "    while temp > 0:\n",
    "        T = temp % 10  \n",
    "        sum =sum+ T **3  \n",
    "        temp //= 10\n",
    "    if X == sum:\n",
    "        print(X,\"is an Armstrong number\")  \n",
    "    else:\n",
    "        print(X,\"is not an Armstrong number\")\n",
    "    "
   ]
  },
  {
   "cell_type": "code",
   "execution_count": 22,
   "metadata": {},
   "outputs": [
    {
     "name": "stdout",
     "output_type": "stream",
     "text": [
      "Enter a number for Armstrong:153\n",
      "153 is an Armstrong number\n"
     ]
    }
   ],
   "source": [
    "Armstrong(7)"
   ]
  },
  {
   "cell_type": "code",
   "execution_count": null,
   "metadata": {},
   "outputs": [],
   "source": [
    "5) Write a Python Program to Find Armstrong Number in an Interval?"
   ]
  },
  {
   "cell_type": "code",
   "execution_count": 6,
   "metadata": {},
   "outputs": [],
   "source": [
    "def ARmstrong(X,Y):\n",
    "    X = int(input(\"Enter X valuse: \"))  \n",
    "    Y= int(input(\"Enter Y value: \"))  \n",
    "    for num in range(X,Y+1):\n",
    "        sum = 0  \n",
    "        temp = num  \n",
    "        while temp > 0:\n",
    "                T = temp % 10  \n",
    "                sum += T ** 3  \n",
    "                temp //= 10  \n",
    "        if num == sum:  \n",
    "                print(num,\"is an Armstrong number\")"
   ]
  },
  {
   "cell_type": "code",
   "execution_count": 7,
   "metadata": {},
   "outputs": [
    {
     "name": "stdout",
     "output_type": "stream",
     "text": [
      "Enter X valuse: 100\n",
      "Enter Y value: 200\n",
      "153 is an Armstrong number\n"
     ]
    }
   ],
   "source": [
    "ARmstrong(1,7)"
   ]
  },
  {
   "cell_type": "code",
   "execution_count": null,
   "metadata": {},
   "outputs": [],
   "source": [
    "6) Write a Python Program to Find the Sum of Natural Numbers"
   ]
  },
  {
   "cell_type": "code",
   "execution_count": 14,
   "metadata": {},
   "outputs": [],
   "source": [
    "def Natural(X):\n",
    "    X=int(input(\"Enter a number: \"))\n",
    "    Y = 0\n",
    "    while(X > 0):\n",
    "        Y=Y+X\n",
    "        X=X-1\n",
    "    print(\"The sum of first  X natural numbers is\",Y)\n",
    "   "
   ]
  },
  {
   "cell_type": "code",
   "execution_count": 16,
   "metadata": {},
   "outputs": [
    {
     "name": "stdout",
     "output_type": "stream",
     "text": [
      "Enter a number: 10\n",
      "The sum of first n natural numbers is 55\n"
     ]
    }
   ],
   "source": [
    "Natural(8)"
   ]
  }
 ],
 "metadata": {
  "kernelspec": {
   "display_name": "Python 3",
   "language": "python",
   "name": "python3"
  }
 },
 "nbformat": 4,
 "nbformat_minor": 4
}
