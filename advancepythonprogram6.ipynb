{
 "cells": [
  {
   "cell_type": "code",
   "execution_count": 32,
   "metadata": {},
   "outputs": [
    {
     "name": "stdout",
     "output_type": "stream",
     "text": [
      "Enter a string:abdce\n",
      "Enter a string:abdcee\n",
      "e\n"
     ]
    }
   ],
   "source": [
    "def findExtraCharacter(strA, strB):\n",
    "    m1 = {}\n",
    "    for i in strB:\n",
    "        if i in m1:\n",
    "            m1[i] += 1\n",
    "        else:\n",
    "            m1[i] = 1\n",
    "    for i in strA:\n",
    "        m1[i] -= 1\n",
    " \n",
    "    for h1 in m1:\n",
    "        if m1[h1] == 1:\n",
    "            return h1\n",
    "if __name__ == \"__main__\":\n",
    "    strA = input(\"Enter a string:\")\n",
    "    strB = input(\"Enter a string:\")\n",
    "    print(findExtraCharacter(strA, strB))"
   ]
  },
  {
   "cell_type": "code",
   "execution_count": 37,
   "metadata": {},
   "outputs": [
    {
     "name": "stdout",
     "output_type": "stream",
     "text": [
      "hj\n"
     ]
    }
   ],
   "source": [
    "def fibWord(n):\n",
    "    Sn_1 = \"h\"\n",
    "    Sn = \"j\"\n",
    "    tmp = \"\"\n",
    "    for i in range(2, n):\n",
    "        tmp = Sn_1\n",
    "        Sn_1 += Sn\n",
    "        Sn = tmp\n",
    "    return Sn_1\n",
    "n = 3\n",
    "print (fibWord(n))"
   ]
  },
  {
   "cell_type": "code",
   "execution_count": 42,
   "metadata": {},
   "outputs": [
    {
     "data": {
      "text/plain": [
       "8"
      ]
     },
     "execution_count": 42,
     "metadata": {},
     "output_type": "execute_result"
    }
   ],
   "source": [
    "def F(n):\n",
    "    if n == 0:\n",
    "        return 0 \n",
    "    if n == 1:\n",
    "        return 1 \n",
    "    else:\n",
    "        return F(n-1) + F(n-2)\n",
    "F(6)"
   ]
  }
 ],
 "metadata": {
  "kernelspec": {
   "display_name": "Python 3",
   "language": "python",
   "name": "python3"
  },
  "language_info": {
   "codemirror_mode": {
    "name": "ipython",
    "version": 3
   },
   "file_extension": ".py",
   "mimetype": "text/x-python",
   "name": "python",
   "nbconvert_exporter": "python",
   "pygments_lexer": "ipython3",
   "version": "3.8.5"
  }
 },
 "nbformat": 4,
 "nbformat_minor": 4
}
