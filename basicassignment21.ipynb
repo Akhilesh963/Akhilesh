{
 "cells": [
  {
   "cell_type": "code",
   "execution_count": null,
   "metadata": {},
   "outputs": [],
   "source": [
    "#1)\n",
    "import datetime\n",
    "filename = datetime.datetime.now()\n",
    "def create_file():\n",
    "    with open(filename.strftime(\"%d %B %Y\")+\".txt\", \"w\") as file:\n",
    "        file.write(\"\")\n",
    "create_file()"
   ]
  },
  {
   "cell_type": "code",
   "execution_count": null,
   "metadata": {},
   "outputs": [],
   "source": [
    "#2)\n",
    "with open('readme.txt') as f:\n",
    "    lines = f.readlines()"
   ]
  },
  {
   "cell_type": "code",
   "execution_count": null,
   "metadata": {},
   "outputs": [],
   "source": [
    "#3)(\n",
    "Date.parse(dateString)"
   ]
  },
  {
   "cell_type": "code",
   "execution_count": null,
   "metadata": {},
   "outputs": [],
   "source": [
    "#4)\n",
    " ls"
   ]
  },
  {
   "cell_type": "code",
   "execution_count": null,
   "metadata": {},
   "outputs": [],
   "source": [
    "#5)\n",
    " ls -l"
   ]
  },
  {
   "cell_type": "code",
   "execution_count": null,
   "metadata": {},
   "outputs": [],
   "source": [
    "#6)\n",
    "import multiprocessing\n",
    "import random\n",
    "import time\n",
    "def worker(name: str)\n",
    "    print(f'Started worker {name}')\n",
    "    worker_time = random.choice(range(1, 5))\n",
    "    time.sleep(worker_time)\n",
    "    print(f'{name} worker finished in {worker_time} seconds')\n",
    "if __name__ == '__main__':\n",
    "    processes = []\n",
    "    for i in range(5):\n",
    "        process = multiprocessing.Process(target=worker, \n",
    "                                          args=(f'computer_{i}',))\n",
    "        processes.append(process)\n",
    "        process.start()\n",
    "    for proc in processes:\n",
    "        proc.join()"
   ]
  },
  {
   "cell_type": "code",
   "execution_count": 78,
   "metadata": {},
   "outputs": [
    {
     "name": "stdout",
     "output_type": "stream",
     "text": [
      "['1996-11-12', '2002-11-12', '2013-11-12', '2019-11-12', '2024-11-12', '2030-11-12', '2041-11-12', '2047-11-12']\n"
     ]
    }
   ],
   "source": [
    "#7)\n",
    "import datetime\n",
    "import calendar\n",
    "  \n",
    "weekdays = [\"Monday\", \"Tuesday\", \"Wednesday\", \n",
    "           \"Thursday\", \"Friday\", \"Saturday\", \"Sunday\"]\n",
    "def split_date(birthday):\n",
    "    year, month, day = birthday.split('-')    \n",
    "    return year, month, day      \n",
    "def get_birthday(birthday):\n",
    "    year, month, day = split_date(birthday)\n",
    "    bdate = datetime.datetime(int(year), int(month), int(day))\n",
    "    weekday = bdate.weekday()\n",
    "    day = weekdays[weekday]\n",
    "    return day    \n",
    "def listToString(x): \n",
    "    String = \" \"   \n",
    "    return (String.join(x))  \n",
    "def true_birthdays(birthdate):\n",
    "    year, month, day = split_date(birthdate)\n",
    "    year = birthdate[:4].split('-') \n",
    "    year = listToString(year)\n",
    "    d_day = get_birthday(birthdate) \n",
    "    true_BD = []    \n",
    "    j = 0\n",
    "    for i in range(int(year), 2050):\n",
    "        new_year = int(year)+j \n",
    "        new_birthday = str(str(new_year)+\"-\"+month+\"-\"+day) \n",
    "        new_d_day = get_birthday(new_birthday)\n",
    "        if d_day == new_d_day: \n",
    "            true_BD.append(new_birthday)\n",
    "        else:\n",
    "            pass\n",
    "        j += 1\n",
    "  \n",
    "    return true_BD  \n",
    "def main():\n",
    "    birthdate = \"1996-11-12\"\n",
    "    dates = true_birthdays(birthdate)        \n",
    "    print(dates)\n",
    "main()"
   ]
  },
  {
   "cell_type": "code",
   "execution_count": null,
   "metadata": {},
   "outputs": [],
   "source": []
  }
 ],
 "metadata": {
  "kernelspec": {
   "display_name": "Python 3",
   "language": "python",
   "name": "python3"
  },
  "language_info": {
   "codemirror_mode": {
    "name": "ipython",
    "version": 3
   },
   "file_extension": ".py",
   "mimetype": "text/x-python",
   "name": "python",
   "nbconvert_exporter": "python",
   "pygments_lexer": "ipython3",
   "version": "3.8.5"
  }
 },
 "nbformat": 4,
 "nbformat_minor": 4
}
