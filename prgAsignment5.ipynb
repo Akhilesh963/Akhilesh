{
 "cells": [
  {
   "cell_type": "code",
   "execution_count": null,
   "metadata": {},
   "outputs": [],
   "source": [
    "1) Write a Python Program to Find LCM?"
   ]
  },
  {
   "cell_type": "code",
   "execution_count": 4,
   "metadata": {},
   "outputs": [
    {
     "name": "stdout",
     "output_type": "stream",
     "text": [
      "Enter a for number num1:5\n",
      "Enter a for number num2:10\n",
      "LCM of Two numbers are: 10\n"
     ]
    }
   ],
   "source": [
    "num1 = int(input(\"Enter a for number num1:\"))\n",
    "num2 = int(input(\"Enter a for number num2:\"))\n",
    "if(num1 > num2 ):   \n",
    "    max= num1\n",
    "else:\n",
    "    max= num2\n",
    "while(True):\n",
    "    if(max % num1 == 0 and max % num2 == 0):   \n",
    "        print(\"LCM of Two numbers are:\",max)\n",
    "        break;\n",
    "    max= max+ 1"
   ]
  },
  {
   "cell_type": "code",
   "execution_count": null,
   "metadata": {},
   "outputs": [],
   "source": [
    "2) Write a Python Program to Find HCF?"
   ]
  },
  {
   "cell_type": "code",
   "execution_count": 17,
   "metadata": {},
   "outputs": [
    {
     "name": "stdout",
     "output_type": "stream",
     "text": [
      "Enter first number: 21\n",
      "Enter second number: 9\n",
      "The H.C.F. of 21 and 9 is 3\n"
     ]
    }
   ],
   "source": [
    "def Hcf(x, y):\n",
    "    if x > y:\n",
    "        smaller = y\n",
    "    else:\n",
    "        smaller = x\n",
    "    for i in range(1, smaller + 1):\n",
    "        if (x % i == 0) and (y % i == 0):\n",
    "            hcf = i\n",
    "    return hcf\n",
    "X = int(input(\"Enter first number: \"))\n",
    "Y = int(input(\"Enter second number: \"))\n",
    "print(\"The H.C.F. of\", X, \"and\", Y, \"is\", Hcf(X,Y))"
   ]
  },
  {
   "cell_type": "code",
   "execution_count": null,
   "metadata": {},
   "outputs": [],
   "source": [
    "3) Write a Python Program to Convert Decimal to Binary, Octal and Hexadecimal?"
   ]
  },
  {
   "cell_type": "code",
   "execution_count": 21,
   "metadata": {},
   "outputs": [
    {
     "name": "stdout",
     "output_type": "stream",
     "text": [
      "Enter a number:12\n",
      "The decimal value of currnet number is: 12\n",
      "12 in Binary is: 0b1100\n",
      "12 in Octal is: 0o14\n",
      "12 in Hexadecimal: 0xc\n"
     ]
    }
   ],
   "source": [
    "X=int(input(\"Enter a number:\"))\n",
    "print(\"The decimal value of currnet number is:\",X)\n",
    "print(X,\"in Binary is:\",bin(X))\n",
    "print(X,\"in Octal is:\",oct(X))\n",
    "print(X,\"in Hexadecimal:\",hex(X))"
   ]
  },
  {
   "cell_type": "code",
   "execution_count": null,
   "metadata": {},
   "outputs": [],
   "source": [
    "4) Write a Python Program To Find ASCII value of a character?"
   ]
  },
  {
   "cell_type": "code",
   "execution_count": 27,
   "metadata": {},
   "outputs": [
    {
     "name": "stdout",
     "output_type": "stream",
     "text": [
      "Enter the character:AkhilesH\n",
      "Ascill of given AkhilesH is:\n",
      "65\n",
      "107\n",
      "104\n",
      "105\n",
      "108\n",
      "101\n",
      "115\n",
      "72\n"
     ]
    }
   ],
   "source": [
    "X = input(\"Enter the character:\")\n",
    "print(\"Ascill of given\",X,\"is:\")\n",
    "for i in X:\n",
    "    print(ord(i))"
   ]
  },
  {
   "cell_type": "code",
   "execution_count": null,
   "metadata": {},
   "outputs": [],
   "source": [
    "5) Write a Python Program to Make a Simple Calculator with 4 basic mathematical operations?"
   ]
  },
  {
   "cell_type": "code",
   "execution_count": 1,
   "metadata": {},
   "outputs": [
    {
     "name": "stdout",
     "output_type": "stream",
     "text": [
      "Choices are:1,2,3,4\n",
      "1=Add\n",
      "2=Subtract\n",
      "3=Multiply\n",
      "4=Quotient\n",
      "Enter your choice:4\n",
      "Enter two numbers:\n",
      "12\n",
      "4\n",
      "Result =  3.0\n"
     ]
    }
   ],
   "source": [
    "print(\"Choices are:1,2,3,4\")\n",
    "print(\"1=Add\")\n",
    "print(\"2=Subtract\")\n",
    "print(\"3=Multiply\")\n",
    "print(\"4=Quotient\")\n",
    "choice = int(input(\"Enter your choice:\"))  \n",
    "if (choice>=1 and choice<=4):\n",
    "    print(\"Enter two numbers:\")\n",
    "    A = int(input())\n",
    "    B= int(input())\n",
    "    if choice == 1:\n",
    "        res = A + B\n",
    "        print(\"Result = \", res)\n",
    "    elif choice == 2:\n",
    "        res = A - B\n",
    "        print(\"Result = \", res)\n",
    "    elif choice == 3: \n",
    "        res = A * B\n",
    "        print(\"Result = \", res)\n",
    "    elif choice == 4: \n",
    "        res = A / B\n",
    "        print(\"Result = \", res)\n",
    "    elif choice == 5:\n",
    "        exit()\n",
    "else:\n",
    "      print(\"Try again\")"
   ]
  }
 ],
 "metadata": {
  "kernelspec": {
   "display_name": "Python 3",
   "language": "python",
   "name": "python3"
  },
  "language_info": {
   "codemirror_mode": {
    "name": "ipython",
    "version": 3
   },
   "file_extension": ".py",
   "mimetype": "text/x-python",
   "name": "python",
   "nbconvert_exporter": "python",
   "pygments_lexer": "ipython3",
   "version": "3.8.5"
  }
 },
 "nbformat": 4,
 "nbformat_minor": 4
}
