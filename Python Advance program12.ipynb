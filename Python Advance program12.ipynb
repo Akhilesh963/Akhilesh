{
 "cells": [
  {
   "cell_type": "code",
   "execution_count": 8,
   "metadata": {},
   "outputs": [
    {
     "name": "stdout",
     "output_type": "stream",
     "text": [
      "Enter a number30\n",
      "Enter a number3\n",
      "27\n"
     ]
    }
   ],
   "source": [
    "def subtract(x, y):\n",
    " \n",
    "    if (y == 0):\n",
    "        return x\n",
    "    return subtract(x ^ y, (~x & y) << 1)\n",
    " \n",
    "# Driver program\n",
    "x = int(input(\"Enter a number\"))\n",
    "y = int(input(\"Enter a number\"))\n",
    "print(subtract(x, y))"
   ]
  },
  {
   "cell_type": "code",
   "execution_count": 23,
   "metadata": {},
   "outputs": [
    {
     "name": "stdout",
     "output_type": "stream",
     "text": [
      "Enter currency in USD: 2\n",
      "The currency in pounds is £1.48\n"
     ]
    }
   ],
   "source": [
    "usd = float(input(\"Enter currency in USD: \"))\n",
    "pounds = usd * 0.74\n",
    "print(\"The currency in pounds is \"+\"£\"+str(round(pounds,2)))"
   ]
  },
  {
   "cell_type": "code",
   "execution_count": 3,
   "metadata": {},
   "outputs": [],
   "source": [
    "def flip_list(list_flip):\n",
    "    if isinstance(list_flip[0],list): return [x[0] for x in list_flip]\n",
    "    else: return [[x] for x in list_flip]"
   ]
  },
  {
   "cell_type": "code",
   "execution_count": 4,
   "metadata": {},
   "outputs": [
    {
     "data": {
      "text/plain": [
       "[[1], [2], [3], [4]]"
      ]
     },
     "execution_count": 4,
     "metadata": {},
     "output_type": "execute_result"
    }
   ],
   "source": [
    "flip_list([1, 2, 3, 4])"
   ]
  },
  {
   "cell_type": "code",
   "execution_count": null,
   "metadata": {},
   "outputs": [],
   "source": []
  }
 ],
 "metadata": {
  "kernelspec": {
   "display_name": "Python 3",
   "language": "python",
   "name": "python3"
  },
  "language_info": {
   "codemirror_mode": {
    "name": "ipython",
    "version": 3
   },
   "file_extension": ".py",
   "mimetype": "text/x-python",
   "name": "python",
   "nbconvert_exporter": "python",
   "pygments_lexer": "ipython3",
   "version": "3.8.5"
  }
 },
 "nbformat": 4,
 "nbformat_minor": 4
}
