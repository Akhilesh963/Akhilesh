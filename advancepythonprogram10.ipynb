{
 "cells": [
  {
   "cell_type": "code",
   "execution_count": 2,
   "metadata": {},
   "outputs": [],
   "source": [
    "import pandas as pd\n",
    "import numpy as np"
   ]
  },
  {
   "cell_type": "code",
   "execution_count": 17,
   "metadata": {},
   "outputs": [],
   "source": [
    "def make_box():       \n",
    "    size = int(input('Please enter a positive integer between 1 and 15: '))\n",
    "    for i in range(size):\n",
    "        if i == 0 or i == size - 1:\n",
    "            print(\"*\"*(size+2))\n",
    "        else:\n",
    "            print(\"*\" + \" \"*size + \"*\")"
   ]
  },
  {
   "cell_type": "code",
   "execution_count": 19,
   "metadata": {},
   "outputs": [
    {
     "name": "stdout",
     "output_type": "stream",
     "text": [
      "Please enter a positive integer between 1 and 15: 3\n",
      "*****\n",
      "*   *\n",
      "*****\n"
     ]
    }
   ],
   "source": [
    "make_box()"
   ]
  },
  {
   "cell_type": "code",
   "execution_count": 28,
   "metadata": {},
   "outputs": [
    {
     "name": "stdout",
     "output_type": "stream",
     "text": [
      "True\n"
     ]
    }
   ],
   "source": [
    "def countParenth(symb, oper, n):\n",
    "    F = [[0 for i in range(n + 1)]\n",
    "         for i in range(n + 1)]\n",
    "    T = [[0 for i in range(n + 1)]\n",
    "         for i in range(n + 1)]\n",
    "    for i in range(n):\n",
    "        if symb[i] == 'F':\n",
    "            F[i][i] = 1\n",
    "        else:\n",
    "            F[i][i] = 0\n",
    " \n",
    "        if symb[i] == 'T':\n",
    "            T[i][i] = 1\n",
    "        else:\n",
    "            T[i][i] = 0\n",
    "    for gap in range(1, n):\n",
    "        i = 0\n",
    "        for j in range(gap, n):\n",
    "            T[i][j] = F[i][j] = 0\n",
    "            for g in range(gap):\n",
    "                k = i + g\n",
    "                tik = T[i][k] + F[i][k]\n",
    "                tkj = T[k + 1][j] + F[k + 1][j]\n",
    "                if oper[k] == '&':\n",
    "                    T[i][j] += T[i][k] * T[k + 1][j]\n",
    "                    F[i][j] += (tik * tkj - T[i][k] *\n",
    "                                T[k + 1][j])\n",
    "                if oper[k] == '|':\n",
    "                    F[i][j] += F[i][k] * F[k + 1][j]\n",
    "                    T[i][j] += (tik * tkj - F[i][k] *\n",
    "                                F[k + 1][j])\n",
    "                if oper[k] == '^':\n",
    "                    T[i][j] += (F[i][k] * T[k + 1][j] +\n",
    "                                T[i][k] * F[k + 1][j])\n",
    "                    F[i][j] += (T[i][k] * T[k + 1][j] +\n",
    "                                F[i][k] * F[k + 1][j])\n",
    "            i += 1\n",
    "    return T[0][n - 1]\n",
    "symbols = [True, True, False, True]\n",
    "operators = \"|&^\"\n",
    "n = bool(symbols)\n",
    "print(n)"
   ]
  },
  {
   "cell_type": "code",
   "execution_count": 52,
   "metadata": {},
   "outputs": [
    {
     "name": "stdout",
     "output_type": "stream",
     "text": [
      "True\n"
     ]
    }
   ],
   "source": [
    "def matching(sentence):\n",
    "    words = sentence.split()\n",
    "    first_letter = set()\n",
    "    for word in words:\n",
    "        first_letter.add(word[:1])\n",
    "        if len(first_letter) == len(words):\n",
    "            return False\n",
    "        else:\n",
    "            return True \n",
    "value = matching(\"Look before you leap\") \n",
    "print(value)\n"
   ]
  },
  {
   "cell_type": "code",
   "execution_count": 6,
   "metadata": {},
   "outputs": [
    {
     "name": "stdout",
     "output_type": "stream",
     "text": [
      "False\n"
     ]
    }
   ],
   "source": [
    "def uniqueCharacters(str):\n",
    "    for i in range(len(str)):\n",
    "        for j in range(i + 1,len(str)):\n",
    "            if(str[i] == str[j]):\n",
    "                return False;\n",
    "    return True;\n",
    "str = \"Look before you leap\";\n",
    "if(uniqueCharacters(str)):\n",
    "    print(True)\n",
    "else:\n",
    "    print(False)"
   ]
  },
  {
   "cell_type": "code",
   "execution_count": null,
   "metadata": {},
   "outputs": [],
   "source": []
  }
 ],
 "metadata": {
  "kernelspec": {
   "display_name": "Python 3",
   "language": "python",
   "name": "python3"
  },
  "language_info": {
   "codemirror_mode": {
    "name": "ipython",
    "version": 3
   },
   "file_extension": ".py",
   "mimetype": "text/x-python",
   "name": "python",
   "nbconvert_exporter": "python",
   "pygments_lexer": "ipython3",
   "version": "3.8.5"
  }
 },
 "nbformat": 4,
 "nbformat_minor": 4
}
