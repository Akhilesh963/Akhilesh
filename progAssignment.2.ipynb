{
 "cells": [
  {
   "cell_type": "code",
   "execution_count": null,
   "metadata": {},
   "outputs": [],
   "source": [
    "1) Write a Python Program to Check if a Number is Positive, Negative or Zero"
   ]
  },
  {
   "cell_type": "code",
   "execution_count": 21,
   "metadata": {},
   "outputs": [
    {
     "name": "stdout",
     "output_type": "stream",
     "text": [
      "Enter a number-1\n",
      "-1 Its a negative number.\n"
     ]
    }
   ],
   "source": [
    "X=int(input(\"Enter a number\"))\n",
    "if X >0:\n",
    "    print(\"{} Its a positive number.\".format(X))\n",
    "elif X ==0:\n",
    "        print(\"{} Its a Zero.\".format(X))\n",
    "        \n",
    "else:\n",
    "        print(\"{} Its a negative number.\".format(X))"
   ]
  },
  {
   "cell_type": "code",
   "execution_count": null,
   "metadata": {},
   "outputs": [],
   "source": [
    "2) Write a Python Program to Check if a Number is Odd or Even?"
   ]
  },
  {
   "cell_type": "code",
   "execution_count": 18,
   "metadata": {},
   "outputs": [
    {
     "name": "stdout",
     "output_type": "stream",
     "text": [
      "Enter a number:9\n",
      "9 is an Odd number.\n"
     ]
    }
   ],
   "source": [
    "X=int(input(\"Enter a number:\")) \n",
    "if X%2==0:\n",
    "    print(\"{} is an Even number:\".format(X))\n",
    "else:\n",
    "     print(\"{} is an Odd number.\".format(X))"
   ]
  },
  {
   "cell_type": "code",
   "execution_count": null,
   "metadata": {},
   "outputs": [],
   "source": [
    "3) Write a Python Program to Check Leap Year?"
   ]
  },
  {
   "cell_type": "code",
   "execution_count": 20,
   "metadata": {},
   "outputs": [
    {
     "name": "stdout",
     "output_type": "stream",
     "text": [
      "Enter year: 2021\n",
      "2021 Is not a Leapyear.\n"
     ]
    }
   ],
   "source": [
    "import calendar\n",
    "Year=int(input(\"Enter year: \"))\n",
    "if Year%4==0:\n",
    "    print(\"{} Is a Leapyear.\".format(Year))\n",
    "else:\n",
    "    print(\"{} Is not a Leapyear.\".format(Year))\n",
    "    "
   ]
  },
  {
   "cell_type": "code",
   "execution_count": null,
   "metadata": {},
   "outputs": [],
   "source": [
    "4) Write a Python Program to Check Prime Number?"
   ]
  },
  {
   "cell_type": "code",
   "execution_count": 16,
   "metadata": {},
   "outputs": [
    {
     "name": "stdout",
     "output_type": "stream",
     "text": [
      "Enter a number:10\n",
      "10 is not a Primenumber\n"
     ]
    }
   ],
   "source": [
    "X=int(input(\"Enter a number:\"))\n",
    "if X > 1:\n",
    "    for i in range(2,X):\n",
    "        if (X%i)==0:\n",
    "            print(X,\"is not a Primenumber\")\n",
    "            break\n",
    "    else:\n",
    "            print(X,\"is a Primenumber\")"
   ]
  },
  {
   "cell_type": "code",
   "execution_count": 5,
   "metadata": {},
   "outputs": [
    {
     "name": "stdout",
     "output_type": "stream",
     "text": [
      "enter a number2\n",
      "enter a number25\n",
      "2\n",
      "3\n",
      "5\n",
      "7\n",
      "11\n",
      "13\n",
      "17\n",
      "19\n",
      "23\n"
     ]
    }
   ],
   "source": [
    "X =int(input(\"enter a number\"))\n",
    "Y=int(input(\"enter a number\"))\n",
    "for num in range(X, Y+ 1):\n",
    "       if num > 1:\n",
    "        for i in range(2, num):\n",
    "               if (num % i) == 0:\n",
    "                break\n",
    "        else:\n",
    "            print(num)"
   ]
  }
 ],
 "metadata": {
  "kernelspec": {
   "display_name": "Python 3",
   "language": "python",
   "name": "python3"
  },
  "language_info": {
   "codemirror_mode": {
    "name": "ipython",
    "version": 3
   },
   "file_extension": ".py",
   "mimetype": "text/x-python",
   "name": "python",
   "nbconvert_exporter": "python",
   "pygments_lexer": "ipython3",
   "version": "3.8.5"
  }
 },
 "nbformat": 4,
 "nbformat_minor": 4
}
