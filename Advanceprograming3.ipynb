{
 "cells": [
  {
   "cell_type": "code",
   "execution_count": 40,
   "metadata": {},
   "outputs": [
    {
     "name": "stdout",
     "output_type": "stream",
     "text": [
      "Area of a triangle is 6.000000\n"
     ]
    }
   ],
   "source": [
    "def findArea(a,b,c):\n",
    "    if (a < 0 or b < 0 or c < 0 or (a+b <= c) or (a+c <=b) or (b+c <=a) ):\n",
    "        print('Not a valid triangle')\n",
    "        return\n",
    "    s = (a + b + c) / 2\n",
    "    area = (s * (s - a) * (s - b) * (s - c)) ** 0.5\n",
    "    print('Area of a triangle is %f' %area)\n",
    "a = 3.0\n",
    "b = 4.0\n",
    "c = 5.0\n",
    "findArea(a,b,c)"
   ]
  },
  {
   "cell_type": "code",
   "execution_count": 43,
   "metadata": {},
   "outputs": [],
   "source": [
    "def merge(self, left, right):\n",
    "        h1, h2, hcurrent = 0, 0, 0\n",
    "        i, j = 0, 0\n",
    "        result = []\n",
    "\n",
    "        while i < len(left) and j < len(right):\n",
    "            x0 = left[i][0]\n",
    "            x1 = right[j][0]\n",
    "            if x0 <= x1:\n",
    "                h1 = left[i][1]\n",
    "                i += 1\n",
    "            if x1 <= x0:\n",
    "                h2 = right[j][1]\n",
    "                j += 1\n",
    "            if max(h1, h2) != hcurrent:\n",
    "                hcurrent = max(h1, h2)\n",
    "                result.append([min(x0, x1), hcurrent])\n",
    "        result.extend(right[j:])\n",
    "        result.extend(left[i:])\n",
    "        return result"
   ]
  },
  {
   "cell_type": "code",
   "execution_count": 44,
   "metadata": {},
   "outputs": [
    {
     "name": "stdout",
     "output_type": "stream",
     "text": [
      "Total gross pay: Rs.5500.00 \n"
     ]
    }
   ],
   "source": [
    "def weeklyPaid(hours_worked, wage):\n",
    "    if hours_worked > 40:\n",
    "        return 40 * wage + (hours_worked - 40) * wage * 1.5\n",
    "    else:\n",
    "        return hours_worked * wage\n",
    "  \n",
    "  \n",
    "hours_worked = 50\n",
    "wage = 100\n",
    "  \n",
    "pay = weeklyPaid(hours_worked, wage)\n",
    "  \n",
    "print(f\"Total gross pay: Rs.{pay:.2f} \")"
   ]
  },
  {
   "cell_type": "code",
   "execution_count": null,
   "metadata": {},
   "outputs": [],
   "source": [
    "import math \n",
    "def check(n) :\n",
    "    count_digits = len(str(n))\n",
    "    sum = 0 \n",
    "    x = n\n",
    "    while (x!=0) :\n",
    "        r = x % 10\n",
    "        sum = (int) (sum + math.pow(r, count_digits))\n",
    "        count_digits = count_digits - 1\n",
    "        x = x/10\n",
    "    if sum == n :\n",
    "        return 1\n",
    "    else :\n",
    "        return 0\n",
    "n = 135\n",
    "if (check(n) == 1) :\n",
    "    print (\"Disarium Number\")\n",
    "else :\n",
    "    print (\"Not a Disarium Number\")"
   ]
  },
  {
   "cell_type": "code",
   "execution_count": null,
   "metadata": {},
   "outputs": [],
   "source": []
  }
 ],
 "metadata": {
  "kernelspec": {
   "display_name": "Python 3",
   "language": "python",
   "name": "python3"
  },
  "language_info": {
   "codemirror_mode": {
    "name": "ipython",
    "version": 3
   },
   "file_extension": ".py",
   "mimetype": "text/x-python",
   "name": "python",
   "nbconvert_exporter": "python",
   "pygments_lexer": "ipython3",
   "version": "3.8.5"
  }
 },
 "nbformat": 4,
 "nbformat_minor": 4
}
