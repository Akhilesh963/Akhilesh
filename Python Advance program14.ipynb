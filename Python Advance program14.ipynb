{
 "cells": [
  {
   "cell_type": "code",
   "execution_count": 26,
   "metadata": {},
   "outputs": [],
   "source": [
    "def wordBreak(wordList, word):\n",
    "    if word == '':\n",
    "        return True\n",
    "    else:\n",
    "        wordLen = len(word)\n",
    "        return any([(word[:i] in wordList) and wordBreak(wordList, word[i:]) for i in range(1, wordLen+1)])"
   ]
  },
  {
   "cell_type": "code",
   "execution_count": 28,
   "metadata": {},
   "outputs": [
    {
     "data": {
      "text/plain": [
       "False"
      ]
     },
     "execution_count": 28,
     "metadata": {},
     "output_type": "execute_result"
    }
   ],
   "source": [
    "wordBreak(\"sharp\", \"soap\")"
   ]
  },
  {
   "cell_type": "code",
   "execution_count": 29,
   "metadata": {},
   "outputs": [
    {
     "name": "stdout",
     "output_type": "stream",
     "text": [
      "Original Array\n",
      "[1, 2, 3, 4, 5, 6]\n",
      "Modified Array\n",
      "[6, 1, 5, 2, 4, 3]\n"
     ]
    }
   ],
   "source": [
    "def rearrange(arr, n):\n",
    "    temp = n*[None]\n",
    "    small, large = 0, n-1\n",
    "    flag = True\n",
    "    for i in range(n):\n",
    "        if flag is True:\n",
    "            temp[i] = arr[large]\n",
    "            large -= 1\n",
    "        else:\n",
    "            temp[i] = arr[small]\n",
    "            small += 1\n",
    " \n",
    "        flag = bool(1-flag)\n",
    "    for i in range(n):\n",
    "        arr[i] = temp[i]\n",
    "    return arr\n",
    "arr = [1, 2, 3, 4, 5, 6]\n",
    "n = len(arr)\n",
    "print(\"Original Array\")\n",
    "print(arr)\n",
    "print(\"Modified Array\")\n",
    "print(rearrange(arr, n))"
   ]
  },
  {
   "cell_type": "code",
   "execution_count": 30,
   "metadata": {},
   "outputs": [
    {
     "name": "stdout",
     "output_type": "stream",
     "text": [
      "54567898\n"
     ]
    }
   ],
   "source": [
    "def findSum(str1, str2):\n",
    "    if (len(str1) > len(str2)):\n",
    "        t = str1;\n",
    "        str1 = str2;\n",
    "        str2 = t;\n",
    "    str = \"\";\n",
    "    n1 = len(str1);\n",
    "    n2 = len(str2);\n",
    "    str1 = str1[::-1];\n",
    "    str2 = str2[::-1];\n",
    " \n",
    "    carry = 0;\n",
    "    for i in range(n1):\n",
    "        sum = ((ord(str1[i]) - 48) +\n",
    "              ((ord(str2[i]) - 48) + carry));\n",
    "        str += chr(sum % 10 + 48);\n",
    "        carry = int(sum / 10);\n",
    "    for i in range(n1, n2):\n",
    "        sum = ((ord(str2[i]) - 48) + carry);\n",
    "        str += chr(sum % 10 + 48);\n",
    "        carry = (int)(sum / 10);\n",
    "    if (carry):\n",
    "        str += chr(carry + 48);\n",
    "    str = str[::-1];\n",
    " \n",
    "    return str;\n",
    "\n",
    "str1 = \"abcdefg\";\n",
    "str2 = \"3\";\n",
    "print(findSum(str1, str2));"
   ]
  },
  {
   "cell_type": "code",
   "execution_count": null,
   "metadata": {},
   "outputs": [],
   "source": []
  }
 ],
 "metadata": {
  "kernelspec": {
   "display_name": "Python 3",
   "language": "python",
   "name": "python3"
  },
  "language_info": {
   "codemirror_mode": {
    "name": "ipython",
    "version": 3
   },
   "file_extension": ".py",
   "mimetype": "text/x-python",
   "name": "python",
   "nbconvert_exporter": "python",
   "pygments_lexer": "ipython3",
   "version": "3.8.5"
  }
 },
 "nbformat": 4,
 "nbformat_minor": 4
}
