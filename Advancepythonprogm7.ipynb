{
 "cells": [
  {
   "cell_type": "code",
   "execution_count": 1,
   "metadata": {},
   "outputs": [
    {
     "name": "stdout",
     "output_type": "stream",
     "text": [
      "3 3 3 3 3 \n",
      "3 2 2 2 3 \n",
      "3 2 1 2 3 \n",
      "3 2 1 2 3 \n",
      "3 2 2 2 3 \n",
      "3 3 3 3 3 \n"
     ]
    }
   ],
   "source": [
    "def printPattern(n) :\n",
    "    s = 2 * n - 1\n",
    "    for i in range(0, int(s / 2) + 1):   \n",
    "        m = n\n",
    "        for j in range(0, i):\n",
    "            print(m ,end= \" \" )\n",
    "            m-=1\n",
    "        for k in range(0, s - 2 * i):\n",
    "            print(n-i ,end= \" \" )\n",
    "        m = n - i + 1\n",
    "        for l in range(0, i):\n",
    "            print(m ,end= \" \" )\n",
    "            m+=1    \n",
    "        print(\"\")\n",
    "    for i in range(int(s / 2),-1,-1):\n",
    "        m = n\n",
    "        for j in range(0, i):\n",
    "            print(m ,end= \" \" )\n",
    "            m-=1\n",
    "        for k in range(0, s - 2 * i):\n",
    "            print(n-i ,end= \" \" )\n",
    "        m = n - i + 1\n",
    "        for l in range(0, i):\n",
    "            print(m ,end= \" \" )\n",
    "            m+=1 \n",
    "        print(\"\")\n",
    "if __name__=='__main__':\n",
    "    n = 3\n",
    "    printPattern(n)"
   ]
  },
  {
   "cell_type": "code",
   "execution_count": 2,
   "metadata": {},
   "outputs": [
    {
     "name": "stdout",
     "output_type": "stream",
     "text": [
      "Yes\n"
     ]
    }
   ],
   "source": [
    "def areElementsContiguous(arr, n):\n",
    "    arr.sort()\n",
    "    for i in range(1,n):\n",
    "        if (arr[i] - arr[i-1] > 1) :\n",
    "            return 0\n",
    "    return 1\n",
    "arr = [ 5, 2, 3, 6, 4, 4, 6, 6 ]\n",
    "n = len(arr)\n",
    "if areElementsContiguous(arr, n): print(\"Yes\")\n",
    "else: print(\"No\")"
   ]
  },
  {
   "cell_type": "code",
   "execution_count": 3,
   "metadata": {},
   "outputs": [
    {
     "name": "stdout",
     "output_type": "stream",
     "text": [
      "4 8 9 16 25 27 32 36 49 64 81 "
     ]
    }
   ],
   "source": [
    "import math\n",
    "\n",
    "def isPower(n) :\n",
    "    if (n==1)  :\n",
    "        return True\n",
    "\n",
    "    for x in range(2,(int)(math.sqrt(n))+1) :\n",
    "        y = 2\n",
    "        p = (int)(math.pow(x, y))\n",
    "        while (p<=n and p>0) :\n",
    "            if (p==n) :\n",
    "                return True\n",
    "            y = y + 1\n",
    "            p = math.pow(x, y)\n",
    "    return False\n",
    "for i in range(2,100 ) :\n",
    "    if (isPower(i)) :\n",
    "        print(i,end=\" \")\n",
    "         "
   ]
  },
  {
   "cell_type": "code",
   "execution_count": 5,
   "metadata": {},
   "outputs": [
    {
     "name": "stdout",
     "output_type": "stream",
     "text": [
      "98763332\n"
     ]
    }
   ],
   "source": [
    "def printMaximum(inum):\n",
    "    count = [0 for x in range(10)]\n",
    "    string = str(num)\n",
    "    for i in range(len(string)):\n",
    "        count[int(string[i])] = count[int(string[i])] +  1\n",
    "    result = 0\n",
    "    multiplier = 1 \n",
    "    for i in range(10):\n",
    "        while count[i] > 0:\n",
    "            result = result + ( i * multiplier )\n",
    "            count[i] = count[i] - 1\n",
    "            multiplier = multiplier * 10\n",
    "    return result\n",
    "num = 38293367\n",
    "print (printMaximum(num))"
   ]
  },
  {
   "cell_type": "code",
   "execution_count": null,
   "metadata": {},
   "outputs": [],
   "source": []
  }
 ],
 "metadata": {
  "kernelspec": {
   "display_name": "Python 3",
   "language": "python",
   "name": "python3"
  },
  "language_info": {
   "codemirror_mode": {
    "name": "ipython",
    "version": 3
   },
   "file_extension": ".py",
   "mimetype": "text/x-python",
   "name": "python",
   "nbconvert_exporter": "python",
   "pygments_lexer": "ipython3",
   "version": "3.8.5"
  }
 },
 "nbformat": 4,
 "nbformat_minor": 4
}
