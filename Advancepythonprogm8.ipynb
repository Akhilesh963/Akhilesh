{
 "cells": [
  {
   "cell_type": "code",
   "execution_count": 7,
   "metadata": {},
   "outputs": [
    {
     "name": "stdout",
     "output_type": "stream",
     "text": [
      "True\n",
      "False\n",
      "False\n"
     ]
    }
   ],
   "source": [
    "import re\n",
    "regex = '^[aeiouAEIOU][A-Za-z0-9_]*'\n",
    "def check(string):\n",
    "    if(re.search(regex, string)):\n",
    "        print(\"True\")\n",
    "    else:\n",
    "        print(\"False\")\n",
    "if __name__ == '__main__' :\n",
    "    string = \"ankit\"\n",
    "    check(string)\n",
    "    string = \"geeks\"\n",
    "    check(string)\n",
    "    string = \"sandeep\"\n",
    "    check(string)"
   ]
  },
  {
   "cell_type": "code",
   "execution_count": 8,
   "metadata": {},
   "outputs": [
    {
     "name": "stdout",
     "output_type": "stream",
     "text": [
      "Enter String:abad\n",
      "Enter a:d\n",
      "Enter b:b\n",
      "No\n"
     ]
    }
   ],
   "source": [
    "s=input(\"Enter String:\") \n",
    "a=input(\"Enter a:\") \n",
    "b=input(\"Enter b:\") \n",
    "count=0 \n",
    "for i in s: \n",
    "    if(a==i and count%2==0): \n",
    "        count+=1 \n",
    "        continue \n",
    "    elif(b==i and count%2==1): \n",
    "        count+=1 \n",
    "        continue \n",
    "if(count==s.count(a)+s.count(b)): \n",
    "    print(\"Yes\") \n",
    "else: \n",
    "    print(\"No\") "
   ]
  },
  {
   "cell_type": "code",
   "execution_count": 11,
   "metadata": {},
   "outputs": [
    {
     "name": "stdout",
     "output_type": "stream",
     "text": [
      "ace\n",
      "pto\n"
     ]
    }
   ],
   "source": [
    "def odd_values_string(str):\n",
    "  result = \"\" \n",
    "  for i in range(len(str)):\n",
    "    if i % 2 == 0:\n",
    "      result = result + str[i]\n",
    "  return result\n",
    "\n",
    "print(odd_values_string('abcdef'))\n",
    "print(odd_values_string('python'))"
   ]
  },
  {
   "cell_type": "code",
   "execution_count": 14,
   "metadata": {},
   "outputs": [
    {
     "name": "stdout",
     "output_type": "stream",
     "text": [
      "64\n"
     ]
    }
   ],
   "source": [
    "def find_gcd(x, y):\n",
    "    while(y):\n",
    "        x, y = y, x % y\n",
    "    return x   \n",
    "l = [1024, 192, 2048, 512]\n",
    " \n",
    "num1 = l[0]\n",
    "num2 = l[1]\n",
    "gcd = find_gcd(num1, num2)\n",
    "for i in range(2, len(l)):\n",
    "    gcd = find_gcd(gcd, l[i])\n",
    "     \n",
    "print(gcd)"
   ]
  },
  {
   "cell_type": "code",
   "execution_count": 15,
   "metadata": {},
   "outputs": [
    {
     "name": "stdout",
     "output_type": "stream",
     "text": [
      "1\n",
      "1\n"
     ]
    }
   ],
   "source": [
    "import sys\n",
    "def isKthBitSet(x, k):\n",
    "    if ((x & (1 << (k - 1))) !=0):\n",
    "        return True\n",
    "    else:\n",
    "        return False\n",
    "def isPalindrome(x):\n",
    "    l = 1 \n",
    "    r = 2 * 8\n",
    "    while (l < r):\n",
    "        if (isKthBitSet(x, l) != isKthBitSet(x, r)):\n",
    "            return False\n",
    "        l += 1\n",
    "        r -= 1\n",
    "    return True\n",
    "if __name__ =='__main__':\n",
    "    x = 1 << 15 + 1 << 16\n",
    "    print(int(isPalindrome(x)))\n",
    "    x = 1 << 31 + 1\n",
    "    print(int(isPalindrome(x)))"
   ]
  },
  {
   "cell_type": "code",
   "execution_count": null,
   "metadata": {},
   "outputs": [],
   "source": []
  }
 ],
 "metadata": {
  "kernelspec": {
   "display_name": "Python 3",
   "language": "python",
   "name": "python3"
  },
  "language_info": {
   "codemirror_mode": {
    "name": "ipython",
    "version": 3
   },
   "file_extension": ".py",
   "mimetype": "text/x-python",
   "name": "python",
   "nbconvert_exporter": "python",
   "pygments_lexer": "ipython3",
   "version": "3.8.5"
  }
 },
 "nbformat": 4,
 "nbformat_minor": 4
}
