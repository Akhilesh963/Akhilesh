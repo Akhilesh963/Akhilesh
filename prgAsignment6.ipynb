{
 "cells": [
  {
   "cell_type": "code",
   "execution_count": null,
   "metadata": {},
   "outputs": [],
   "source": [
    "1) Write a Python Program to Find Factorial of Number Using Recursion"
   ]
  },
  {
   "cell_type": "code",
   "execution_count": 11,
   "metadata": {},
   "outputs": [
    {
     "name": "stdout",
     "output_type": "stream",
     "text": [
      "Enter a number for Factorial:5\n",
      "Factorial of given number is: 120\n"
     ]
    }
   ],
   "source": [
    "def Factorial(X):\n",
    "    if X <= 0:\n",
    "        return 1\n",
    "    else:\n",
    "        return(X*Factorial(X-1))\n",
    "X=int(input(\"Enter a number for Factorial:\"))\n",
    "print(\"Factorial of given number is:\",Factorial(X))"
   ]
  },
  {
   "cell_type": "code",
   "execution_count": null,
   "metadata": {},
   "outputs": [],
   "source": [
    "2) Write a Python Program to Display Fibonacci Sequence Using Recursion?"
   ]
  },
  {
   "cell_type": "code",
   "execution_count": 15,
   "metadata": {},
   "outputs": [
    {
     "name": "stdout",
     "output_type": "stream",
     "text": [
      "Enter number for Fibonacci is:9\n",
      "Fibonacci sequence:\n",
      "01123581321"
     ]
    }
   ],
   "source": [
    "def Fib(n):\n",
    "    if(n <= 1):\n",
    "        return n\n",
    "    else:\n",
    "        return(Fib(n-1) + Fib(n-2))\n",
    "n = int(input(\"Enter number for Fibonacci is:\"))\n",
    "print(\"Fibonacci sequence:\")\n",
    "for i in range(n):\n",
    "    print(Fib(i),end=\"\")"
   ]
  },
  {
   "cell_type": "code",
   "execution_count": null,
   "metadata": {},
   "outputs": [],
   "source": [
    "3) Write a Python Program to calculate your Body Mass Index?"
   ]
  },
  {
   "cell_type": "code",
   "execution_count": 25,
   "metadata": {},
   "outputs": [
    {
     "name": "stdout",
     "output_type": "stream",
     "text": [
      "Input your height in Feet:6\n",
      "Input your weight in Kilogram:65\n",
      "Your body mass index is:  1.81\n"
     ]
    }
   ],
   "source": [
    "height=float(input(\"Input your height in Feet:\"))\n",
    "weight=float(input(\"Input your weight in Kilogram:\"))\n",
    "print(\"Your body mass index is: \",round(weight/(height * height),2))"
   ]
  },
  {
   "cell_type": "code",
   "execution_count": null,
   "metadata": {},
   "outputs": [],
   "source": [
    "4) Write a Python Program to calculate the natural logarithm of any number?"
   ]
  },
  {
   "cell_type": "code",
   "execution_count": 32,
   "metadata": {},
   "outputs": [
    {
     "name": "stdout",
     "output_type": "stream",
     "text": [
      "Enter a number for Log:67.987089\n",
      "0.9162132232028687\n"
     ]
    }
   ],
   "source": [
    "import math\n",
    "X=float(input(\"Enter a number for Log:\"))\n",
    "print(math.log(X,100))"
   ]
  },
  {
   "cell_type": "code",
   "execution_count": null,
   "metadata": {},
   "outputs": [],
   "source": [
    "5) Write a Python Program for cube sum of first n natural numbers?"
   ]
  },
  {
   "cell_type": "code",
   "execution_count": 37,
   "metadata": {},
   "outputs": [
    {
     "name": "stdout",
     "output_type": "stream",
     "text": [
      "Enter a number:5\n",
      "The sum of first n natural numbers is 225\n"
     ]
    }
   ],
   "source": [
    "n=int(input(\"Enter a number:\"))\n",
    "S = 0\n",
    "while(n > 0):\n",
    "    S=S+n*n*n\n",
    "    n=n-1\n",
    "print(\"The sum of first n natural numbers is\",S)"
   ]
  }
 ],
 "metadata": {
  "kernelspec": {
   "display_name": "Python 3",
   "language": "python",
   "name": "python3"
  },
  "language_info": {
   "codemirror_mode": {
    "name": "ipython",
    "version": 3
   },
   "file_extension": ".py",
   "mimetype": "text/x-python",
   "name": "python",
   "nbconvert_exporter": "python",
   "pygments_lexer": "ipython3",
   "version": "3.8.5"
  }
 },
 "nbformat": 4,
 "nbformat_minor": 4
}
