{
 "cells": [
  {
   "cell_type": "code",
   "execution_count": 9,
   "metadata": {},
   "outputs": [
    {
     "name": "stdout",
     "output_type": "stream",
     "text": [
      "5\n"
     ]
    }
   ],
   "source": [
    "def getMissingNo(a, n):\n",
    "    i, total = 0, 1\n",
    " \n",
    "    for i in range(2, n + 2):\n",
    "        total += i\n",
    "        total -= a[i - 2]\n",
    "    return total\n",
    " \n",
    "# Driver Code\n",
    "arr = [1, 2, 3, 4, 6, 7, 8, 9, 10]\n",
    "print(getMissingNo(arr, len(arr)))"
   ]
  },
  {
   "cell_type": "code",
   "execution_count": 11,
   "metadata": {},
   "outputs": [
    {
     "name": "stdout",
     "output_type": "stream",
     "text": [
      "The number is a triangular number\n"
     ]
    }
   ],
   "source": [
    "def isTriangular(num):\n",
    "    if (num < 0):\n",
    "        return False\n",
    "    sum, n = 0, 1\n",
    " \n",
    "    while(sum <= num):\n",
    "     \n",
    "        sum = sum + n\n",
    "        if (sum == num):\n",
    "            return True\n",
    "        n += 1\n",
    " \n",
    "    return False\n",
    "n = 1\n",
    "if (isTriangular(n)):\n",
    "    print(\"The number is a triangular number\")\n",
    "else:\n",
    "    print(\"The number is NOT a triangular number\")"
   ]
  },
  {
   "cell_type": "code",
   "execution_count": 14,
   "metadata": {},
   "outputs": [
    {
     "name": "stdout",
     "output_type": "stream",
     "text": [
      "Volume Of Cone :  113.09733552923255\n",
      "Surface Area Of Cone :  150.79644737231007\n"
     ]
    }
   ],
   "source": [
    "import math\n",
    "pi = math.pi\n",
    "def volume(r, h):\n",
    "    return (1 / 3) * pi * r * r * h\n",
    "def surfacearea(r, s):\n",
    "    return pi * r * s + pi * r * r\n",
    "radius = float(3)\n",
    "height = float(12)\n",
    "slat_height = float(13)\n",
    "print( \"Volume Of Cone : \", volume(radius, height) )\n",
    "print( \"Surface Area Of Cone : \", surfacearea(radius, slat_height) )"
   ]
  },
  {
   "cell_type": "code",
   "execution_count": 41,
   "metadata": {},
   "outputs": [],
   "source": [
    "numbers = [\"A\", 0, \"Edabit\", 1729, \"Python\", \"1729\"]\n",
    "def less_than_three(number):\n",
    "    for i in numbers:\n",
    "        if type(i)==int:\n",
    "            print(i,end=\" \")\n",
    "        else:\n",
    "            pass"
   ]
  },
  {
   "cell_type": "code",
   "execution_count": 42,
   "metadata": {},
   "outputs": [
    {
     "name": "stdout",
     "output_type": "stream",
     "text": [
      "0 1729 "
     ]
    }
   ],
   "source": [
    "less_than_three(1)"
   ]
  },
  {
   "cell_type": "code",
   "execution_count": null,
   "metadata": {},
   "outputs": [],
   "source": []
  }
 ],
 "metadata": {
  "kernelspec": {
   "display_name": "Python 3",
   "language": "python",
   "name": "python3"
  },
  "language_info": {
   "codemirror_mode": {
    "name": "ipython",
    "version": 3
   },
   "file_extension": ".py",
   "mimetype": "text/x-python",
   "name": "python",
   "nbconvert_exporter": "python",
   "pygments_lexer": "ipython3",
   "version": "3.8.5"
  }
 },
 "nbformat": 4,
 "nbformat_minor": 4
}
