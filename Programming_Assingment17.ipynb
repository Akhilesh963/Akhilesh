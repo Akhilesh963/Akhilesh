{
 "cells": [
  {
   "cell_type": "code",
   "execution_count": 17,
   "metadata": {},
   "outputs": [
    {
     "name": "stdout",
     "output_type": "stream",
     "text": [
      "Enter lower range limit:1\n",
      "Enter upper range limit:10\n",
      "Enter the number to be divided by:2\n",
      "2\n",
      "4\n",
      "6\n",
      "8\n",
      "10\n",
      "sum of the numbers that are evenly divided by 2 are: 30\n"
     ]
    }
   ],
   "source": [
    "A=[]\n",
    "lower=int(input(\"Enter lower range limit:\"))\n",
    "upper=int(input(\"Enter upper range limit:\"))\n",
    "n=int(input(\"Enter the number to be divided by:\"))\n",
    "for i in range(lower,upper+1):\n",
    "    if(i%n==0):\n",
    "        A.append(i)\n",
    "        print(i)\n",
    "print(\"sum of the numbers that are evenly divided by\",n,\"are:\",sum(A))"
   ]
  },
  {
   "cell_type": "code",
   "execution_count": 25,
   "metadata": {},
   "outputs": [
    {
     "name": "stdout",
     "output_type": "stream",
     "text": [
      "True\n",
      "False\n",
      "False\n"
     ]
    }
   ],
   "source": [
    "class express:\n",
    "    def correct_signs(deg):\n",
    "        return eval(deg)\n",
    "\n",
    "    print(correct_signs(\"3 < 7 < 11\"))\n",
    "    print(correct_signs(\"13 > 44 > 33 > 1\"))\n",
    "    print(correct_signs(\"1 < 2 < 12 < 9 > 3\"))"
   ]
  },
  {
   "cell_type": "code",
   "execution_count": 27,
   "metadata": {},
   "outputs": [
    {
     "name": "stdout",
     "output_type": "stream",
     "text": [
      "Enter a sentence:Hi this is my Vowels program\n",
      "Given Sting: Hi this is my Vowels program\n",
      "Given Specified Character: $$\n",
      "Afer replacing vowels with the $$ character: H$$ th$$s $$s my V$$w$$ls pr$$gr$$m\n"
     ]
    }
   ],
   "source": [
    "def replaceVowelsWithK(test_str, K):\n",
    "    vowels = 'AEIOUaeiou'\n",
    "    for i in vowels:\n",
    "        test_str = test_str.replace(i, K)\n",
    "\n",
    "    return test_str\n",
    "str = input((\"Enter a sentence:\"))\n",
    "\n",
    "K = \"$$\"\n",
    "print(\"Given Sting:\", str)\n",
    "print(\"Given Specified Character:\", K)\n",
    "print(\"Afer replacing vowels with the \" +K+\" \"+\"character:\",replaceVowelsWithK(str, K))"
   ]
  },
  {
   "cell_type": "code",
   "execution_count": 28,
   "metadata": {},
   "outputs": [
    {
     "name": "stdout",
     "output_type": "stream",
     "text": [
      "Enter a number:5\n",
      "The factorial of 5 is 120\n"
     ]
    }
   ],
   "source": [
    "def recur_factorial(n):\n",
    "   if n == 1:\n",
    "       return n\n",
    "   else:\n",
    "       return n*recur_factorial(n-1)\n",
    "\n",
    "num = int(input(\"Enter a number:\"))\n",
    "if num < 0:\n",
    "   print(\"Sorry, factorial does not exist for negative numbers\")\n",
    "elif num == 0:\n",
    "   print(\"The factorial of 0 is 1\")\n",
    "else:\n",
    "   print(\"The factorial of\", num, \"is\", recur_factorial(num))"
   ]
  },
  {
   "cell_type": "code",
   "execution_count": 31,
   "metadata": {},
   "outputs": [
    {
     "name": "stdout",
     "output_type": "stream",
     "text": [
      "Enter 1st word:fnadfgqueyr3y5gtts\n",
      "Enter 2st word:kjaeuir3r393r3r239\n",
      "16\n"
     ]
    }
   ],
   "source": [
    "def hammingDist(str1, str2):\n",
    "    i = 0\n",
    "    count = 0\n",
    "    while (i < len(str1)):\n",
    "        if (str1[i] != str2[i]):\n",
    "            count =count+1\n",
    "        i =i+ 1\n",
    "    return count\n",
    "str1 = input(\"Enter 1st word:\")\n",
    "str2 = input(\"Enter 2st word:\")\n",
    "print(hammingDist(str1, str2))"
   ]
  },
  {
   "cell_type": "code",
   "execution_count": null,
   "metadata": {},
   "outputs": [],
   "source": []
  }
 ],
 "metadata": {
  "kernelspec": {
   "display_name": "Python 3",
   "language": "python",
   "name": "python3"
  },
  "language_info": {
   "codemirror_mode": {
    "name": "ipython",
    "version": 3
   },
   "file_extension": ".py",
   "mimetype": "text/x-python",
   "name": "python",
   "nbconvert_exporter": "python",
   "pygments_lexer": "ipython3",
   "version": "3.8.5"
  }
 },
 "nbformat": 4,
 "nbformat_minor": 4
}
