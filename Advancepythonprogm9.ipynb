{
 "cells": [
  {
   "cell_type": "code",
   "execution_count": null,
   "metadata": {},
   "outputs": [],
   "source": [
    "import cv2\n",
    "import datetime\n",
    "  \n",
    "# create video capture object\n",
    "data = cv2.VideoCapture('C:/Users/Asus/Documents/videoDuration.mp4')\n",
    "  \n",
    "# count the number of frames\n",
    "frames = data.get(cv2.CAP_PROP_FRAME_COUNT)\n",
    "fps = int(data.get(cv2.CAP_PROP_FPS))\n",
    "  \n",
    "# calculate dusration of the video\n",
    "seconds = int(frames / fps)\n",
    "video_time = str(datetime.timedelta(seconds=seconds))\n",
    "print(\"duration in seconds:\", seconds)\n",
    "print(\"video time:\", video_time)"
   ]
  },
  {
   "cell_type": "code",
   "execution_count": null,
   "metadata": {},
   "outputs": [],
   "source": [
    "duration in seconds: 32\n",
    "video time: 0:00:28"
   ]
  },
  {
   "cell_type": "code",
   "execution_count": 26,
   "metadata": {},
   "outputs": [],
   "source": [
    "def find_nb(m):\n",
    "    return int(math.sqrt(2 * (math.sqrt(1.0 * m))))"
   ]
  },
  {
   "cell_type": "code",
   "execution_count": 28,
   "metadata": {},
   "outputs": [
    {
     "data": {
      "text/plain": [
       "4"
      ]
     },
     "execution_count": 28,
     "metadata": {},
     "output_type": "execute_result"
    }
   ],
   "source": [
    "find_nb(90)"
   ]
  },
  {
   "cell_type": "code",
   "execution_count": 31,
   "metadata": {},
   "outputs": [
    {
     "name": "stdout",
     "output_type": "stream",
     "text": [
      "-1\n"
     ]
    }
   ],
   "source": [
    "def findElement(arr, n) :\n",
    "    prefixSum = [0] * n\n",
    "    prefixSum[0] = arr[0]\n",
    "    for i in range(1, n) :\n",
    "        prefixSum[i] = prefixSum[i - 1] + arr[i]\n",
    "    suffixSum = [0] * n\n",
    "    suffixSum[n - 1] = arr[n - 1]\n",
    "    for i in range(n - 2, -1, -1) :\n",
    "        suffixSum[i] = suffixSum[i + 1] + arr[i]\n",
    "    for i in range(1, n - 1, 1) :\n",
    "        if prefixSum[i] == suffixSum[i] :\n",
    "            return arr[i]\n",
    "    return -1\n",
    "if __name__ == \"__main__\" :\n",
    "     \n",
    "    arr = [8, 8, 8, 8]\n",
    "    n = len(arr)\n",
    "    print(findElement(arr, n))"
   ]
  },
  {
   "cell_type": "code",
   "execution_count": 36,
   "metadata": {},
   "outputs": [
    {
     "name": "stdout",
     "output_type": "stream",
     "text": [
      "43\n",
      "89\n",
      "0.5\n"
     ]
    }
   ],
   "source": [
    "from itertools import groupby\n",
    "n = int(input())\n",
    "c = map(int,input().split())\n",
    "\n",
    "ans = 0\n",
    "for val in [len(list(group)) for key, group in groupby(sorted(c))]:\n",
    "    ans = ans + val/2\n",
    "print (ans)"
   ]
  },
  {
   "cell_type": "code",
   "execution_count": 40,
   "metadata": {},
   "outputs": [
    {
     "name": "stdout",
     "output_type": "stream",
     "text": [
      "0.22301\n"
     ]
    }
   ],
   "source": [
    "def sum_str_array(array):\n",
    "    total = 0\n",
    "    for item in array:\n",
    "        total += float(item)\n",
    "    return round(total, 5)\n",
    "\n",
    "a = ['1.01', '-0.76699', '-0.02']\n",
    "print (sum_str_array(a))"
   ]
  },
  {
   "cell_type": "code",
   "execution_count": null,
   "metadata": {},
   "outputs": [],
   "source": []
  }
 ],
 "metadata": {
  "kernelspec": {
   "display_name": "Python 3",
   "language": "python",
   "name": "python3"
  },
  "language_info": {
   "codemirror_mode": {
    "name": "ipython",
    "version": 3
   },
   "file_extension": ".py",
   "mimetype": "text/x-python",
   "name": "python",
   "nbconvert_exporter": "python",
   "pygments_lexer": "ipython3",
   "version": "3.8.5"
  }
 },
 "nbformat": 4,
 "nbformat_minor": 4
}
