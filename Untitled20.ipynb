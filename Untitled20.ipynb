{
 "cells": [
  {
   "cell_type": "code",
   "execution_count": 1,
   "metadata": {},
   "outputs": [],
   "source": [
    "1) Write a Python program to print \"Hello Python\"?"
   ]
  },
  {
   "cell_type": "code",
   "execution_count": null,
   "metadata": {},
   "outputs": [],
   "source": [
    "print(\"Hello Python\")"
   ]
  },
  {
   "cell_type": "code",
   "execution_count": null,
   "metadata": {},
   "outputs": [],
   "source": [
    "2) Write a Python program to do arithmetical operations addition and division.?"
   ]
  },
  {
   "cell_type": "code",
   "execution_count": 6,
   "metadata": {},
   "outputs": [
    {
     "name": "stdout",
     "output_type": "stream",
     "text": [
      "Enter a number12\n",
      "Enter a number63\n",
      "75\n",
      "0.19047619047619047\n"
     ]
    }
   ],
   "source": [
    "X=int(input(\"Enter a number\"))\n",
    "Y=int(input(\"Enter a number\"))\n",
    "Z=X+Y\n",
    "R=X/Y\n",
    "print(Z)\n",
    "print(R)"
   ]
  },
  {
   "cell_type": "code",
   "execution_count": null,
   "metadata": {},
   "outputs": [],
   "source": [
    "3) Write a Python program to find the area of a triangle?"
   ]
  },
  {
   "cell_type": "code",
   "execution_count": 17,
   "metadata": {},
   "outputs": [
    {
     "name": "stdout",
     "output_type": "stream",
     "text": [
      "Enter A side:9\n",
      "Enter B side:9\n",
      "Enter C side:9\n",
      "Area of Triangle\n",
      "The area of the triangle is 35.07\n"
     ]
    }
   ],
   "source": [
    "a=int(input(\"Enter A side:\"))\n",
    "b=int(input(\"Enter B side:\"))\n",
    "c=int(input(\"Enter C side:\"))\n",
    "s=((a + b + c) / 2 )\n",
    "print(\"Area of Triangle\")\n",
    "area = (s*(s-a)*(s-b)*(s-c)) ** 0.5 \n",
    "print('The area of the triangle is %0.2f' %area)"
   ]
  },
  {
   "cell_type": "code",
   "execution_count": null,
   "metadata": {},
   "outputs": [],
   "source": [
    "4) Write a Python program to swap two variables?"
   ]
  },
  {
   "cell_type": "code",
   "execution_count": 22,
   "metadata": {},
   "outputs": [
    {
     "name": "stdout",
     "output_type": "stream",
     "text": [
      "Enter ur valuse:Akhilesh\n",
      "Enter ur valuse:Madugula\n",
      "Akhilesh Madugula\n",
      "Madugula Akhilesh\n"
     ]
    }
   ],
   "source": [
    "X=input(\"Enter ur valuse:\")\n",
    "Y=input(\"Enter ur valuse:\")\n",
    "print(X,Y)\n",
    "temp=0\n",
    "temp=X\n",
    "X=Y\n",
    "Y=temp\n",
    "print(X,Y)"
   ]
  },
  {
   "cell_type": "code",
   "execution_count": null,
   "metadata": {},
   "outputs": [],
   "source": [
    "5) Write a Python program to generate a random number?"
   ]
  },
  {
   "cell_type": "code",
   "execution_count": 38,
   "metadata": {},
   "outputs": [
    {
     "name": "stdout",
     "output_type": "stream",
     "text": [
      "Enter a number:63\n",
      "range(0, 63)\n",
      "34 is A Random number from range(0, 63)\n"
     ]
    }
   ],
   "source": [
    "import random\n",
    "X=int(input(\"Enter a number:\"))\n",
    "print(range(X))\n",
    "print(random.randrange(X),\"is A Random number from\",range(X))"
   ]
  },
  {
   "cell_type": "code",
   "execution_count": null,
   "metadata": {},
   "outputs": [],
   "source": []
  }
 ],
 "metadata": {
  "kernelspec": {
   "display_name": "Python 3",
   "language": "python",
   "name": "python3"
  },
  "language_info": {
   "codemirror_mode": {
    "name": "ipython",
    "version": 3
   },
   "file_extension": ".py",
   "mimetype": "text/x-python",
   "name": "python",
   "nbconvert_exporter": "python",
   "pygments_lexer": "ipython3",
   "version": "3.8.5"
  }
 },
 "nbformat": 4,
 "nbformat_minor": 4
}
