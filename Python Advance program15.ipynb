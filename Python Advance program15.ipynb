{
 "cells": [
  {
   "cell_type": "code",
   "execution_count": 42,
   "metadata": {},
   "outputs": [
    {
     "name": "stdout",
     "output_type": "stream",
     "text": [
      "YES\n"
     ]
    }
   ],
   "source": [
    "def match_words(dictionary, sentence, n, m):\n",
    "    mp = dict()\n",
    "    for i in range(n):\n",
    "        mp[dictionary[i]] = mp.get(dictionary[i], 0) + 1\n",
    "    for i in range(m):\n",
    "        if (mp[sentence[i]]):\n",
    "            mp[sentence[i]] -= 1\n",
    "        else:\n",
    "            return False\n",
    "    return True\n",
    "dictionary = [\"Justin Bieber\", \"injures\", \"ebb\", \"it\"]\n",
    " \n",
    "n = len(dictionary)\n",
    " \n",
    "sentence = [\"Justin Bieber\", \"injures\",  \"it\"]\n",
    "m = len(sentence)\n",
    "if (match_words(dictionary, sentence, n, m)):\n",
    "    print(\"YES\")\n",
    "else:\n",
    "    print(\"NO\")"
   ]
  },
  {
   "cell_type": "code",
   "execution_count": 43,
   "metadata": {},
   "outputs": [],
   "source": [
    "def printCollatz(n):\n",
    "    while n != 1:\n",
    "        print(n, end = ' ')\n",
    "        if n & 1:\n",
    "            n = 3 * n + 1\n",
    "        else:\n",
    "            n = n // 2\n",
    "\n",
    "    print(n)\n",
    "\n",
    " "
   ]
  },
  {
   "cell_type": "code",
   "execution_count": 45,
   "metadata": {},
   "outputs": [
    {
     "name": "stdout",
     "output_type": "stream",
     "text": [
      "10 5 16 8 4 2 1\n"
     ]
    }
   ],
   "source": [
    "printCollatz(10)\n"
   ]
  },
  {
   "cell_type": "code",
   "execution_count": null,
   "metadata": {},
   "outputs": [],
   "source": []
  }
 ],
 "metadata": {
  "kernelspec": {
   "display_name": "Python 3",
   "language": "python",
   "name": "python3"
  },
  "language_info": {
   "codemirror_mode": {
    "name": "ipython",
    "version": 3
   },
   "file_extension": ".py",
   "mimetype": "text/x-python",
   "name": "python",
   "nbconvert_exporter": "python",
   "pygments_lexer": "ipython3",
   "version": "3.8.5"
  }
 },
 "nbformat": 4,
 "nbformat_minor": 4
}
