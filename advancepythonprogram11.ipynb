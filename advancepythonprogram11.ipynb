{
 "cells": [
  {
   "cell_type": "code",
   "execution_count": 13,
   "metadata": {},
   "outputs": [],
   "source": [
    "def prime(n): \n",
    "    if n <= 0: \n",
    "        return \"Not defined\" \n",
    "    elif n == 1: \n",
    "        return \"Not prime\" \n",
    "    for i in range(2, n): \n",
    "        if n%i == 0: \n",
    "            return \"not prime\" \n",
    "    return \"prime\" \n",
    "\n",
    "def list_prime(lst):\n",
    "    prime_list =[ ]\n",
    "    for i in lst:\n",
    "        x = prime(i)\n",
    "        if x == \"prime\":\n",
    "            prime_list.append(i)\n",
    "    return prime_list \n"
   ]
  },
  {
   "cell_type": "code",
   "execution_count": 15,
   "metadata": {},
   "outputs": [
    {
     "name": "stdout",
     "output_type": "stream",
     "text": [
      "[10007, 1009]\n"
     ]
    }
   ],
   "source": [
    "print(list_prime([10007, 1009, 1007, 27, 147, 77, 1001, 70])) "
   ]
  },
  {
   "cell_type": "code",
   "execution_count": 21,
   "metadata": {},
   "outputs": [
    {
     "name": "stdout",
     "output_type": "stream",
     "text": [
      "[0, 0, 0, 0, 4, 0, 0, 0, 0]\n",
      "[4]\n"
     ]
    }
   ],
   "source": [
    "test_list = [0, 0, 0, 0, 4, 0, 0, 0, 0]\n",
    "print(test_list)\n",
    "res = [idx for idx, val in enumerate(test_list) if val != 0]\n",
    "print(res)"
   ]
  },
  {
   "cell_type": "code",
   "execution_count": 25,
   "metadata": {},
   "outputs": [
    {
     "name": "stdout",
     "output_type": "stream",
     "text": [
      "['2344b', '832u32', '932c']\n"
     ]
    }
   ],
   "source": [
    "lst = [\"932c\", \"832u32\", \"2344b\"]\n",
    "lst.sort()  \n",
    "print(lst)"
   ]
  },
  {
   "cell_type": "code",
   "execution_count": 1,
   "metadata": {},
   "outputs": [
    {
     "name": "stdout",
     "output_type": "stream",
     "text": [
      "There are 3 cups, and 1 egg hidden underneath.\n",
      "Which cup do you think the egg is under?\n",
      "1 - 2 - 3? 3\n",
      "\n",
      "You lose!  It was under cup 1\n",
      "Would you like to play again?\n",
      "> y\n",
      "There are 3 cups, and 1 egg hidden underneath.\n",
      "Which cup do you think the egg is under?\n",
      "1 - 2 - 3? 3\n",
      "\n",
      "You lose!  It was under cup 2\n",
      "Would you like to play again?\n",
      "> y\n",
      "There are 3 cups, and 1 egg hidden underneath.\n",
      "Which cup do you think the egg is under?\n",
      "1 - 2 - 3? 2\n",
      "\n",
      "You lose!  It was under cup 3\n",
      "Would you like to play again?\n",
      "> y\n",
      "There are 3 cups, and 1 egg hidden underneath.\n",
      "Which cup do you think the egg is under?\n",
      "1 - 2 - 3? 3\n",
      "\n",
      "You lose!  It was under cup 2\n",
      "Would you like to play again?\n",
      "> y\n",
      "There are 3 cups, and 1 egg hidden underneath.\n",
      "Which cup do you think the egg is under?\n",
      "1 - 2 - 3? 3\n",
      "\n",
      "You lose!  It was under cup 1\n",
      "Would you like to play again?\n",
      "> y\n",
      "There are 3 cups, and 1 egg hidden underneath.\n",
      "Which cup do you think the egg is under?\n",
      "1 - 2 - 3? 2\n",
      "\n",
      "You lose!  It was under cup 1\n",
      "Would you like to play again?\n",
      "> y\n",
      "There are 3 cups, and 1 egg hidden underneath.\n",
      "Which cup do you think the egg is under?\n",
      "1 - 2 - 3? 2\n",
      "\n",
      "You win!\n",
      "Would you like to play again?\n",
      "> n\n"
     ]
    }
   ],
   "source": [
    "import random\n",
    "mylist = [1, 2, 3]\n",
    "keep_playing = True\n",
    "while keep_playing:\n",
    "    print (\"There are 3 cups, and 1 egg hidden underneath.\")\n",
    "    print (\"Which cup do you think the egg is under?\")\n",
    "    talong_c = input(\"1 - 2 - 3? \")\n",
    "    while talong_c not in \"123\":\n",
    "        talong_c = input(\"1 - 2 - 3? \")\n",
    "    true_cup = random.choice(mylist)\n",
    "    if int(talong_c) == true_cup:\n",
    "        print (\"\\nYou win!\")\n",
    "    else:\n",
    "        print (\"\\nYou lose!  It was under cup\", true_cup)\n",
    "    print (\"Would you like to play again?\")\n",
    "    talong_c1 = input(\"> \")\n",
    "    keep_playing = talong_c1.lower() == 'y'"
   ]
  },
  {
   "cell_type": "code",
   "execution_count": null,
   "metadata": {},
   "outputs": [],
   "source": []
  }
 ],
 "metadata": {
  "kernelspec": {
   "display_name": "Python 3",
   "language": "python",
   "name": "python3"
  },
  "language_info": {
   "codemirror_mode": {
    "name": "ipython",
    "version": 3
   },
   "file_extension": ".py",
   "mimetype": "text/x-python",
   "name": "python",
   "nbconvert_exporter": "python",
   "pygments_lexer": "ipython3",
   "version": "3.8.5"
  }
 },
 "nbformat": 4,
 "nbformat_minor": 4
}
