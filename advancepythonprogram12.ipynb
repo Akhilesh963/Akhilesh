{
 "cells": [
  {
   "cell_type": "code",
   "execution_count": 10,
   "metadata": {},
   "outputs": [
    {
     "name": "stdout",
     "output_type": "stream",
     "text": [
      "Enter a number:26\n",
      "Enter b number:39\n",
      "515\n"
     ]
    }
   ],
   "source": [
    "def printSum(a, b):\n",
    "    res, temp1, temp2 = 0, 0, 0\n",
    "    while a > 0:\n",
    "        temp1 = temp1 * 10 + (a % 10)\n",
    "        a //= 10 \n",
    "    a = temp1\n",
    "    while b > 0:     \n",
    "        temp2 = temp2 * 10 + (b % 10)\n",
    "        b //= 10  \n",
    "    b = temp2\n",
    "    while a:\n",
    "        Sum = a % 10 + b % 10\n",
    "        if Sum // 10 == 0:\n",
    "            res = res * 10 + Sum       \n",
    "        else:\n",
    "            temp1 = 0\n",
    "            while Sum > 0:           \n",
    "                temp1 = temp1 * 10 + (Sum % 10)\n",
    "                Sum //= 10\n",
    "            Sum = temp1\n",
    "            while Sum > 0:\n",
    "                res = res * 10 + (Sum % 10)\n",
    "                Sum //= 10        \n",
    "        a //= 10\n",
    "        b //= 10   \n",
    "    return res\n",
    "if __name__ == \"__main__\":\n",
    "    a=int(input(\"Enter a number:\"))\n",
    "    b =int(input(\"Enter b number:\"))\n",
    "    print(printSum(a, b))"
   ]
  },
  {
   "cell_type": "code",
   "execution_count": 17,
   "metadata": {},
   "outputs": [
    {
     "name": "stdout",
     "output_type": "stream",
     "text": [
      "Enter a number:24\n",
      "29\n"
     ]
    }
   ],
   "source": [
    "import math\n",
    "def isPrime(n):\n",
    "    if(n <= 1):\n",
    "        return False\n",
    "    if(n <= 3):\n",
    "        return True\n",
    "    if(n % 2 == 0 or n % 3 == 0):\n",
    "        return False  \n",
    "    for i in range(5,int(math.sqrt(n) + 1), 6):\n",
    "        if(n % i == 0 or n % (i + 2) == 0):\n",
    "            return False\n",
    "    return True\n",
    "def nextPrime(N):\n",
    "    if (N <= 1):\n",
    "        return 2\n",
    "    prime = N\n",
    "    found = False\n",
    "    while(not found):\n",
    "        prime = prime + 1\n",
    "        if(isPrime(prime) == True):\n",
    "            found = True\n",
    "    return prime\n",
    "N =int(input(\"Enter a number:\")) \n",
    "print(nextPrime(N))"
   ]
  },
  {
   "cell_type": "code",
   "execution_count": 21,
   "metadata": {},
   "outputs": [
    {
     "name": "stdout",
     "output_type": "stream",
     "text": [
      "3\n"
     ]
    }
   ],
   "source": [
    "INF = 1000000\n",
    "def MinimumCost(cost, n, W):\n",
    "    val = list()\n",
    "    wt= list()\n",
    "    size = 0\n",
    "    for i in range(n):\n",
    "        if (cost[i] != -1):\n",
    "            val.append(cost[i])\n",
    "            wt.append(i+1)\n",
    "            size += 1\n",
    "    n = size\n",
    "    min_cost = [[0 for i in range(W+1)] for j in range(n+1)]\n",
    "    for i in range(W+1):\n",
    "        min_cost[0][i] = INF\n",
    "    for i in range(1, n+1):\n",
    "        min_cost[i][0] = 0\n",
    "    for i in range(1, n+1):\n",
    "        for j in range(1, W+1):\n",
    "            if (wt[i-1] > j):\n",
    "                min_cost[i][j] = min_cost[i-1][j]\n",
    "            else:\n",
    "                min_cost[i][j] = min(min_cost[i-1][j],\n",
    "                    min_cost[i][j-wt[i-1]] + val[i-1])\n",
    "    if(min_cost[n][W] == INF):\n",
    "        return -1\n",
    "    else:\n",
    "        return min_cost[n][W]\n",
    "cost = [2, 1, 2, 5, 4, 3, 6, 1, 1, 9, 3, 2]\n",
    "W = 5\n",
    "n = len(cost)\n",
    " \n",
    "print(MinimumCost(cost, n, W))"
   ]
  },
  {
   "cell_type": "code",
   "execution_count": null,
   "metadata": {},
   "outputs": [],
   "source": []
  }
 ],
 "metadata": {
  "kernelspec": {
   "display_name": "Python 3",
   "language": "python",
   "name": "python3"
  },
  "language_info": {
   "codemirror_mode": {
    "name": "ipython",
    "version": 3
   },
   "file_extension": ".py",
   "mimetype": "text/x-python",
   "name": "python",
   "nbconvert_exporter": "python",
   "pygments_lexer": "ipython3",
   "version": "3.8.5"
  }
 },
 "nbformat": 4,
 "nbformat_minor": 4
}
