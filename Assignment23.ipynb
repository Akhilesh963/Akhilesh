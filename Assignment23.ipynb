{
 "cells": [
  {
   "cell_type": "code",
   "execution_count": 24,
   "metadata": {},
   "outputs": [
    {
     "name": "stdout",
     "output_type": "stream",
     "text": [
      "it is a palindrome\n"
     ]
    }
   ],
   "source": [
    "def checkPalindrome(str):\n",
    "    for i in range(0, len(str)//2):\n",
    "        if str[i] != str[len(str)-i-1]:\n",
    "            return False\n",
    "    return True\n",
    "st = \"112233445566778899000000998877665544332211\"\n",
    "if(checkPalindrome(st) == True):\n",
    "    print(\"it is a palindrome\")\n",
    "else:\n",
    "    print(\"It is not a palindrome\")"
   ]
  },
  {
   "cell_type": "code",
   "execution_count": 25,
   "metadata": {},
   "outputs": [
    {
     "name": "stdout",
     "output_type": "stream",
     "text": [
      "100\n"
     ]
    }
   ],
   "source": [
    "import re\n",
    "def find_sum(str1):\n",
    "    return sum(map(int, re.findall('\\d+', str1)))\n",
    "str1 = \"12abc20yz68\"\n",
    "print(find_sum(str1))"
   ]
  },
  {
   "cell_type": "code",
   "execution_count": 40,
   "metadata": {},
   "outputs": [
    {
     "name": "stdout",
     "output_type": "stream",
     "text": [
      " Please Enter any numeric Value : 91\n",
      "The Square of a Given Number 91.0  = 8281.0\n"
     ]
    }
   ],
   "source": [
    "number = float(input(\" Please Enter any numeric Value : \"))\n",
    "\n",
    "square = number * number\n",
    "\n",
    "print(\"The Square of a Given Number {0}  = {1}\".format(number, square))"
   ]
  },
  {
   "cell_type": "code",
   "execution_count": 49,
   "metadata": {},
   "outputs": [
    {
     "name": "stdout",
     "output_type": "stream",
     "text": [
      "[1, 3, 5, 6, 3, 5, 6, 1]\n",
      "[1, 3, 5, 6]\n"
     ]
    }
   ],
   "source": [
    "test_list = [1, 3, 5, 6, 3, 5, 6, 1]\n",
    "print (test_list)\n",
    "res = []\n",
    "[res.append(x) for x in test_list if x not in res]\n",
    "print (res)"
   ]
  },
  {
   "cell_type": "code",
   "execution_count": 52,
   "metadata": {},
   "outputs": [
    {
     "name": "stdout",
     "output_type": "stream",
     "text": [
      "18.53846153846154\n"
     ]
    }
   ],
   "source": [
    "import statistics\n",
    "data = [11, 21, 11, 19, 46, 21, 19, 29, 21, 18, 3, 11, 11]\n",
    "x = statistics.mean(data)\n",
    "print(x)"
   ]
  },
  {
   "cell_type": "code",
   "execution_count": null,
   "metadata": {},
   "outputs": [],
   "source": []
  }
 ],
 "metadata": {
  "kernelspec": {
   "display_name": "Python 3",
   "language": "python",
   "name": "python3"
  },
  "language_info": {
   "codemirror_mode": {
    "name": "ipython",
    "version": 3
   },
   "file_extension": ".py",
   "mimetype": "text/x-python",
   "name": "python",
   "nbconvert_exporter": "python",
   "pygments_lexer": "ipython3",
   "version": "3.8.5"
  }
 },
 "nbformat": 4,
 "nbformat_minor": 4
}
