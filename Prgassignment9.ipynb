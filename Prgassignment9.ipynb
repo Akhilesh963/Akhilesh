{
 "cells": [
  {
   "cell_type": "code",
   "execution_count": null,
   "metadata": {},
   "outputs": [],
   "source": [
    "1) Write a Python program to check if the given number is a Disarium Number?"
   ]
  },
  {
   "cell_type": "code",
   "execution_count": 33,
   "metadata": {},
   "outputs": [
    {
     "name": "stdout",
     "output_type": "stream",
     "text": [
      "Enter a number456\n",
      "456 is not a disarium number\n"
     ]
    }
   ],
   "source": [
    "def Disarium(n):    \n",
    "    length = 0   \n",
    "    while(n != 0):    \n",
    "        length = length + 1    \n",
    "        n = n//10    \n",
    "    return length    \n",
    "num = int(input(\"Enter a number\"))    \n",
    "rem = sum = 0    \n",
    "len = Disarium(num)     \n",
    "n = num;      \n",
    "while(num > 0):    \n",
    "    rem = num%10   \n",
    "    sum = sum + int(rem**len)  \n",
    "    num = num//10   \n",
    "    len = len - 1    \n",
    "if(sum == n):    \n",
    "    print(str(n) + \" is a disarium number\")    \n",
    "else:    \n",
    "    print(str(n) + \" is not a disarium number\")"
   ]
  },
  {
   "cell_type": "code",
   "execution_count": null,
   "metadata": {},
   "outputs": [],
   "source": [
    "2) Write a Python program to print all disarium numbers between 1 to 100?"
   ]
  },
  {
   "cell_type": "code",
   "execution_count": 44,
   "metadata": {},
   "outputs": [
    {
     "name": "stdout",
     "output_type": "stream",
     "text": [
      "Disarium numbers between 1 and 100 are\n",
      "Enter a number:150\n",
      "1 2 3 4 5 6 7 8 9 89 135 "
     ]
    }
   ],
   "source": [
    "def Disarium(n):    \n",
    "    length = 0   \n",
    "    while(n != 0):    \n",
    "        length = length + 1    \n",
    "        n = n//10    \n",
    "    return length \n",
    "def sumOfDisarium(num):    \n",
    "    rem = sum = 0    \n",
    "    len = Disarium(num)         \n",
    "    while(num > 0):    \n",
    "        rem = num%10    \n",
    "        sum = sum + (rem**len)    \n",
    "        num = num//10   \n",
    "        len = len - 1    \n",
    "    return sum         \n",
    "result = 0 \n",
    "print(\"Disarium numbers between 1 and 100 are\") \n",
    "X=int(input(\"Enter a number:\"))\n",
    "for i in range(1,X):    \n",
    "    result = sumOfDisarium(i)         \n",
    "    if(result == i):    \n",
    "        print(i,end=\" \") "
   ]
  },
  {
   "cell_type": "code",
   "execution_count": null,
   "metadata": {},
   "outputs": [],
   "source": [
    "3) Write a Python program to check if the given number is Happy Number"
   ]
  },
  {
   "cell_type": "code",
   "execution_count": 48,
   "metadata": {},
   "outputs": [
    {
     "name": "stdout",
     "output_type": "stream",
     "text": [
      "Enter a number:82\n",
      "82 is a happy number\n"
     ]
    }
   ],
   "source": [
    "def HappyNumber(num):    \n",
    "    rem = sum = 0     \n",
    "    while(num > 0):\n",
    "        rem = num%10    \n",
    "        sum = sum + (rem*rem)    \n",
    "        num = num//10    \n",
    "    return sum    \n",
    "        \n",
    "num = int(input(\"Enter a number:\"))    \n",
    "result = num        \n",
    "while(result != 1 and result != 4):    \n",
    "    result = HappyNumber(result)       \n",
    "if(result == 1):    \n",
    "    print(str(num) + \" is a happy number\")\n",
    "elif(result == 4):    \n",
    "    print(str(num) + \" is not a happy number\") "
   ]
  },
  {
   "cell_type": "code",
   "execution_count": null,
   "metadata": {},
   "outputs": [],
   "source": [
    "4) Write a Python program to print all happy numbers between 1 and 100?"
   ]
  },
  {
   "cell_type": "code",
   "execution_count": 6,
   "metadata": {},
   "outputs": [
    {
     "name": "stdout",
     "output_type": "stream",
     "text": [
      "Enter a number:63\n",
      "1 7 10 13 19 23 28 31 32 44 49 "
     ]
    }
   ],
   "source": [
    "def HappyNumber(num):    \n",
    "    rem = sum = 0;      \n",
    "    while(num > 0):    \n",
    "        rem = num%10;    \n",
    "        sum = sum + (rem*rem);    \n",
    "        num = num//10;    \n",
    "    return sum;       \n",
    "X=int(input(\"Enter a number:\"))  \n",
    "for i in range(1, X):    \n",
    "    result = i;        \n",
    "    while(result != 1 and result != 4):    \n",
    "        result = HappyNumber(result);    \n",
    "    if(result == 1):    \n",
    "        print(i,end=\" \"),    "
   ]
  },
  {
   "cell_type": "code",
   "execution_count": null,
   "metadata": {},
   "outputs": [],
   "source": [
    "5) Write a Python program to determine whether the given number is a Harshad Number?"
   ]
  },
  {
   "cell_type": "code",
   "execution_count": 7,
   "metadata": {},
   "outputs": [
    {
     "name": "stdout",
     "output_type": "stream",
     "text": [
      "Enter a number for Harshad:1234\n",
      "1234 is not a harshad number\n"
     ]
    }
   ],
   "source": [
    "num = int(input(\"Enter a number for Harshad:\"));    \n",
    "rem = sum = 0;      \n",
    "n = num;       \n",
    "while(num > 0):    \n",
    "    rem = num%10;    \n",
    "    sum = sum + rem;    \n",
    "    num = num//10; \n",
    "if(n%sum == 0):    \n",
    "    print(str(n) + \" is a harshad number\");    \n",
    "else:    \n",
    "    print(str(n) + \" is not a harshad number\");    "
   ]
  },
  {
   "cell_type": "code",
   "execution_count": null,
   "metadata": {},
   "outputs": [],
   "source": [
    "6) Write a Python program to print all pronic numbers between 1 and 100?\n"
   ]
  },
  {
   "cell_type": "code",
   "execution_count": 9,
   "metadata": {},
   "outputs": [
    {
     "name": "stdout",
     "output_type": "stream",
     "text": [
      "Pronic numbers between 1 and 100: \n",
      "Enter a number:12\n",
      "2 6 "
     ]
    }
   ],
   "source": [
    "def PronicNumber(num):    \n",
    "    flag = False;        \n",
    "    for j in range(1, num+1):       \n",
    "        if((j*(j+1)) == num):    \n",
    "            flag = True;    \n",
    "            break;    \n",
    "    return flag;       \n",
    "print(\"Pronic numbers between 1 and 100: \");\n",
    "X=int(input(\"Enter a number:\"))\n",
    "for i in range(1, X):    \n",
    "    if(PronicNumber(i)):    \n",
    "        print(i,end=\" \"),     "
   ]
  },
  {
   "cell_type": "code",
   "execution_count": null,
   "metadata": {},
   "outputs": [],
   "source": []
  }
 ],
 "metadata": {
  "kernelspec": {
   "display_name": "Python 3",
   "language": "python",
   "name": "python3"
  },
  "language_info": {
   "codemirror_mode": {
    "name": "ipython",
    "version": 3
   },
   "file_extension": ".py",
   "mimetype": "text/x-python",
   "name": "python",
   "nbconvert_exporter": "python",
   "pygments_lexer": "ipython3",
   "version": "3.8.5"
  }
 },
 "nbformat": 4,
 "nbformat_minor": 4
}
