{
 "cells": [
  {
   "cell_type": "code",
   "execution_count": 2,
   "metadata": {},
   "outputs": [
    {
     "name": "stdout",
     "output_type": "stream",
     "text": [
      "Enter a number: 5\n",
      "This is an odd number.\n"
     ]
    }
   ],
   "source": [
    "num = int(input(\"Enter a number: \"))\n",
    "mod = num % 2\n",
    "if mod==1:\n",
    "    print(\"This is an odd number.\")\n",
    "else:\n",
    "    print(\"This is an even number.\")"
   ]
  },
  {
   "cell_type": "code",
   "execution_count": 9,
   "metadata": {},
   "outputs": [
    {
     "name": "stdout",
     "output_type": "stream",
     "text": [
      "A\n"
     ]
    }
   ],
   "source": [
    "def findMajority(arr, n):\n",
    " \n",
    "    maxCount = 0\n",
    "    index = -1  \n",
    "    for i in range(n):\n",
    " \n",
    "        count = 0\n",
    "        for j in range(n):\n",
    " \n",
    "            if(arr[i] == arr[j]):\n",
    "                count += 1\n",
    "        if(count > maxCount):\n",
    " \n",
    "            maxCount = count\n",
    "            index = i\n",
    "    if (maxCount > n//2):\n",
    "        print(arr[index])\n",
    " \n",
    "    else:\n",
    "        print(\"No Majority Element\")\n",
    "\n",
    "if __name__ == \"__main__\":\n",
    "    arr = [\"A\", \"A\", \"A\", \"B\", \"C\", \"A\"]\n",
    "    n = len(arr)\n",
    "\n",
    "    findMajority(arr, n)"
   ]
  },
  {
   "cell_type": "code",
   "execution_count": 25,
   "metadata": {},
   "outputs": [
    {
     "name": "stdout",
     "output_type": "stream",
     "text": [
      "The *** jumped over the moon.\n"
     ]
    }
   ],
   "source": [
    "def censor(text, word):\n",
    "    word_list = text.split()\n",
    "    result = ''\n",
    "    stars = '*' * len(word)\n",
    "    count = 0\n",
    "    index = 0;\n",
    "    for i in word_list:\n",
    "        if i == word:\n",
    "            word_list[index] = stars\n",
    "        index += 1\n",
    "    result =' '.join(word_list)\n",
    "    return result\n",
    "if __name__== '__main__':\n",
    "     \n",
    "    extract = \"The cow jumped over the moon.\"              \n",
    "    cen = \"cow\"\n",
    "    print(censor(extract, cen))"
   ]
  },
  {
   "cell_type": "code",
   "execution_count": 27,
   "metadata": {},
   "outputs": [
    {
     "name": "stdout",
     "output_type": "stream",
     "text": [
      "Enter a number:123220\n",
      "123220 is Not Polydivisible number.\n"
     ]
    }
   ],
   "source": [
    "def check_polydivisible(n):\n",
    "    N = n\n",
    "    digit = []\n",
    "    while (n > 0):\n",
    "        digit.append(n % 10)\n",
    "        n /= 10\n",
    " \n",
    "    digit.reverse()\n",
    " \n",
    "    flag = True\n",
    "    n = digit[0]\n",
    "    for i in range(1, len(digit), 1):\n",
    "        n = n * 10 + digit[i]\n",
    "        if (n % (i + 1) != 0):\n",
    "            flag = False\n",
    "            break\n",
    "     \n",
    "    if (flag):\n",
    "        print(N, \"is Polydivisible number.\");\n",
    "    else:\n",
    "        print(N, \"is Not Polydivisible number.\")\n",
    "if __name__ == '__main__':\n",
    "    n = int(input(\"Enter a number:\"))\n",
    "    check_polydivisible(n)"
   ]
  },
  {
   "cell_type": "code",
   "execution_count": 28,
   "metadata": {},
   "outputs": [
    {
     "name": "stdout",
     "output_type": "stream",
     "text": [
      "Sum of all prime numbers: 87\n"
     ]
    }
   ],
   "source": [
    "def findPrime(list1):\n",
    "    s = 0\n",
    "    for num in list1:\n",
    "        i = 2\n",
    "        p = 1\n",
    "        while i <= num / 2:\n",
    "            if num % i == 0:\n",
    "                p = 0\n",
    "                break\n",
    "            i = i + 1\n",
    "        if p == 1:\n",
    "            s = s + num\n",
    "    return s\n",
    "\n",
    "\n",
    "list1 = [2, 3, 4, 11, 20, 50, 71]\n",
    "s = findPrime(list1)\n",
    "print(\"Sum of all prime numbers:\", s)"
   ]
  },
  {
   "cell_type": "code",
   "execution_count": null,
   "metadata": {},
   "outputs": [],
   "source": []
  }
 ],
 "metadata": {
  "kernelspec": {
   "display_name": "Python 3",
   "language": "python",
   "name": "python3"
  },
  "language_info": {
   "codemirror_mode": {
    "name": "ipython",
    "version": 3
   },
   "file_extension": ".py",
   "mimetype": "text/x-python",
   "name": "python",
   "nbconvert_exporter": "python",
   "pygments_lexer": "ipython3",
   "version": "3.8.5"
  }
 },
 "nbformat": 4,
 "nbformat_minor": 4
}
