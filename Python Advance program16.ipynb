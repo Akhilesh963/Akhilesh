{
 "cells": [
  {
   "cell_type": "code",
   "execution_count": 46,
   "metadata": {},
   "outputs": [
    {
     "name": "stdout",
     "output_type": "stream",
     "text": [
      "The number after rounding-off is 139.6\n"
     ]
    }
   ],
   "source": [
    "from math import ceil, floor, pow\n",
    "def Round_off(N, n):\n",
    "    b = N\n",
    "    c = floor(N)\n",
    "    i = 0;\n",
    "    while(b >= 1):\n",
    "        b = b / 10\n",
    "        i = i + 1\n",
    " \n",
    "    d = n - i\n",
    "    b = N\n",
    "    b = b * pow(10, d)\n",
    "    e = b + 0.5\n",
    "    if (float(e) == float(ceil(b))):\n",
    "        f = (ceil(b))\n",
    "        h = f - 2\n",
    "        if (h % 2 != 0):\n",
    "            e = e - 1\n",
    "    j = floor(e)\n",
    "    m = pow(10, d)\n",
    "    j = j / m\n",
    "    print(\"The number after rounding-off is\", j)\n",
    "if __name__ == '__main__':\n",
    "    N = 139.59\n",
    "    n = 4\n",
    " \n",
    "    Round_off(N, n)"
   ]
  },
  {
   "cell_type": "code",
   "execution_count": 53,
   "metadata": {},
   "outputs": [],
   "source": [
    "def if_rhymes(word1, word2):\n",
    "    r1 = [word2]\n",
    "    r2 = [word1]\n",
    "    the_same = 0\n",
    "    for sound1, sound2 in zip(r1, r2):\n",
    "        if sound1 == sound2:\n",
    "            the_same += 1\n",
    "        else:\n",
    "            break\n",
    "            if the_same < threshold:\n",
    "                 return 'no rhyme' \n",
    "            else:\n",
    "                         return 'rhymes'"
   ]
  },
  {
   "cell_type": "code",
   "execution_count": null,
   "metadata": {},
   "outputs": [],
   "source": []
  }
 ],
 "metadata": {
  "kernelspec": {
   "display_name": "Python 3",
   "language": "python",
   "name": "python3"
  },
  "language_info": {
   "codemirror_mode": {
    "name": "ipython",
    "version": 3
   },
   "file_extension": ".py",
   "mimetype": "text/x-python",
   "name": "python",
   "nbconvert_exporter": "python",
   "pygments_lexer": "ipython3",
   "version": "3.8.5"
  }
 },
 "nbformat": 4,
 "nbformat_minor": 4
}
