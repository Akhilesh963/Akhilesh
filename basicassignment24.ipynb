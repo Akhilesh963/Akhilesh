{
 "cells": [
  {
   "cell_type": "code",
   "execution_count": 105,
   "metadata": {},
   "outputs": [],
   "source": [
    "#1)\n",
    "Lambda expressions are used to create anonymous functions,\n",
    "or functions without a name. They are useful when we need to\n",
    "create a function that will only need to be used once\n",
    "(a throw-away function) and can be written in one line. \n",
    "Lambda functions can have any number of parameters but can \n",
    "only have one expression. They generally have this format\n",
    "which yields a function object:\n",
    "lambda parameters: expression"
   ]
  },
  {
   "cell_type": "code",
   "execution_count": 107,
   "metadata": {},
   "outputs": [],
   "source": [
    "#2)\n",
    "1)No servers to manage\n",
    "2)Continuous scaling\n",
    "3)Millisecond metering\n",
    "4)Increases innovation\n",
    "5)Modernize your applications\n",
    "6)Rich ecosystem"
   ]
  },
  {
   "cell_type": "code",
   "execution_count": 109,
   "metadata": {},
   "outputs": [],
   "source": [
    "#3)\n",
    "1)The map() function iterates through all items \n",
    "in the given iterable and executes the function\n",
    "we passed as an argument on each of them.\n",
    "The syntax is:\n",
    "map(function, iterable(s))\n",
    "2)As the name suggests, filter() forms a new list that c\n",
    "ontains only elements that satisfy a certain condition, \n",
    "i.e. the function we passed returns True.\n",
    "The syntax is:\n",
    "filter(function, iterable(s))\n",
    "3)reduce() works differently than map() and filter(). It does not return \n",
    "a new list based on the function and iterable we've passed. Instead, it \n",
    "returns a single value.\n",
    "Also, in Python 3 reduce() isn't a built-in function anymore, and it can\n",
    "be found in the functools module.\n",
    "The syntax is:\n",
    "reduce(function, sequence[, initial])"
   ]
  },
  {
   "cell_type": "code",
   "execution_count": 111,
   "metadata": {},
   "outputs": [],
   "source": [
    "#4)\n",
    "Function annotations are arbitrary python expressions that are associated\n",
    "with various part of functions. These expressions are evaluated at compile\n",
    "time and have no life in python’s runtime environment. Python does not \n",
    "attach any meaning to these annotations. They take life when interpreted \n",
    "by third party libraries, for example, mypy.\n",
    "Python supports dynamic typing and hence no module is provided for type \n",
    "checking. Annotations like\n",
    "[def foo(a:”int”, b:”float”=5.0)  -> ”int”]\n",
    "def foobar(a: expression, b: expression = 5):\n",
    "def foobar(*args: expression, *kwargs: expression):\n",
    "def foobar((a: expression, b: expression), (c: expression, d: expression)):\n",
    "def foobar(a: expression)->expression:"
   ]
  },
  {
   "cell_type": "code",
   "execution_count": 117,
   "metadata": {},
   "outputs": [],
   "source": [
    "#5)\n",
    "in programming terms, a recursive function can be defined as a routine \n",
    "that calls itself directly or indirectly.\n",
    "Using the recursive algorithm, certain problems can be solved quite \n",
    "easily. Towers of Hanoi (TOH) is one such programming exercise. Try to\n",
    "write an iterative algorithm for TOH. Moreover, every recursive program \n",
    "can be written using iterative methods.\n",
    "Mathematically, recursion helps to solve a few puzzles easily."
   ]
  },
  {
   "cell_type": "code",
   "execution_count": 119,
   "metadata": {},
   "outputs": [],
   "source": [
    "#6)\n",
    "1)Limited use of globals\n",
    "2)Standard headers for different modules\n",
    "Name of the module\n",
    "Date of module creation\n",
    "Author of the module\n",
    "Modification history\n",
    "Synopsis of the module about what the module does\n",
    "Different functions supported in the module along with \n",
    "their input output parameters\n",
    "Global variables accessed or modified by the module\n",
    "3)Naming conventions for local variables, global variables,\n",
    "constants and functions\n",
    "4)Indentation\n",
    "5)Error return values and exception handling conventions\n",
    "6)Avoid using a coding style that is too difficult to understand\n",
    "7)Avoid using an identifier for multiple purposes:\n",
    "8)Code should be well documented:\n",
    "9)Length of functions should not be very large:\n",
    "10)Try not to use GOTO statement:"
   ]
  },
  {
   "cell_type": "code",
   "execution_count": null,
   "metadata": {},
   "outputs": [],
   "source": [
    "#7)\n",
    "Function in Python is defined by the \"def \" statement followed by \n",
    "the function name and parentheses ( () )"
   ]
  }
 ],
 "metadata": {
  "kernelspec": {
   "display_name": "Python 3",
   "language": "python",
   "name": "python3"
  },
  "language_info": {
   "codemirror_mode": {
    "name": "ipython",
    "version": 3
   },
   "file_extension": ".py",
   "mimetype": "text/x-python",
   "name": "python",
   "nbconvert_exporter": "python",
   "pygments_lexer": "ipython3",
   "version": "3.8.5"
  }
 },
 "nbformat": 4,
 "nbformat_minor": 4
}
