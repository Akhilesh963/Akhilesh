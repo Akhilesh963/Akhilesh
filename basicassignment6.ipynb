{
 "cells": [
  {
   "cell_type": "code",
   "execution_count": null,
   "metadata": {},
   "outputs": [],
   "source": [
    "1)To insert characters that are illegal in a string, use an escape character.\n",
    "An escape character is a backslash \\ followed by the character you want to insert.\n",
    "The escape character allows you to use double quotes when you normally would not be allowed:\n",
    "example:txt = \"We are the so-called \\\"Vikings\\\" from the north.\"\n",
    "    print(txt) \n",
    "    output:We are the so-called \"Vikings\" from the north."
   ]
  },
  {
   "cell_type": "markdown",
   "metadata": {},
   "source": [
    "2)An escape character is a backslash \\ followed by the character you want to insert."
   ]
  },
  {
   "cell_type": "code",
   "execution_count": null,
   "metadata": {},
   "outputs": [],
   "source": [
    "3):txt = \"We are the so-called \\\"Vikings\\\" from the north.\"\n",
    "    print(txt) "
   ]
  },
  {
   "cell_type": "code",
   "execution_count": null,
   "metadata": {},
   "outputs": [],
   "source": [
    "4)The single quote in Howl's is fine because you've used double quotes to mark the beginning and end of the string."
   ]
  },
  {
   "cell_type": "code",
   "execution_count": null,
   "metadata": {},
   "outputs": [],
   "source": [
    "5)Multiline strings allow you to use newlines in strings without the \\n escape character."
   ]
  },
  {
   "cell_type": "code",
   "execution_count": null,
   "metadata": {},
   "outputs": [],
   "source": [
    "6)The expressions evaluate to the following:\n",
    "\n",
    "'e'\n",
    "\n",
    "'Hello'\n",
    "\n",
    "'Hello'\n",
    "\n",
    "'lo world!"
   ]
  },
  {
   "cell_type": "code",
   "execution_count": null,
   "metadata": {},
   "outputs": [],
   "source": [
    "7)The expressions evaluate to the following:\n",
    "\n",
    "'HELLO'\n",
    "\n",
    "True\n",
    "\n",
    "'hello'"
   ]
  },
  {
   "cell_type": "code",
   "execution_count": null,
   "metadata": {},
   "outputs": [],
   "source": [
    "8)The expressions evaluate to the following:\n",
    "\n",
    "['Remember,', 'remember,', 'the', 'fifth', 'of', 'November.']\n",
    "\n",
    "'There-can-be-only-one."
   ]
  },
  {
   "cell_type": "code",
   "execution_count": null,
   "metadata": {},
   "outputs": [],
   "source": [
    "9)The rjust(), ljust(), and center() string methods, respectively"
   ]
  },
  {
   "cell_type": "code",
   "execution_count": null,
   "metadata": {},
   "outputs": [],
   "source": [
    "10)The lstrip() and rstrip() methods remove whitespace from the left and right ends of a string, respectively."
   ]
  }
 ],
 "metadata": {
  "kernelspec": {
   "display_name": "Python 3",
   "language": "python",
   "name": "python3"
  },
  "language_info": {
   "codemirror_mode": {
    "name": "ipython",
    "version": 3
   },
   "file_extension": ".py",
   "mimetype": "text/x-python",
   "name": "python",
   "nbconvert_exporter": "python",
   "pygments_lexer": "ipython3",
   "version": "3.8.5"
  }
 },
 "nbformat": 4,
 "nbformat_minor": 4
}
