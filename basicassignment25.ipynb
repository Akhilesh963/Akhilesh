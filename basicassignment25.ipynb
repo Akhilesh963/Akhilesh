{
 "cells": [
  {
   "cell_type": "code",
   "execution_count": 105,
   "metadata": {},
   "outputs": [],
   "source": [
    "#1)\n",
    "A list is mutable, meaning you can change its contents:\n",
    "    >>> x = [1,2]\n",
    ">>> x.append(3)\n",
    ">>> x\n",
    "[1, 2, 3]\n",
    "while tuples are not:\n",
    "    >>> x = (1,2)\n",
    ">>> x\n",
    "(1, 2)\n",
    ">>> x.append(3)"
   ]
  },
  {
   "cell_type": "code",
   "execution_count": 107,
   "metadata": {},
   "outputs": [],
   "source": [
    "#2)&3)\n",
    "Iterator\n",
    "    1)Class is used to implement an iterator.\n",
    "    2)Local Variables aren’t used here.\n",
    "    3)Iterators are used mostly to iterate\n",
    "    or convert other objects to an iterator \n",
    "    using iter() function.    \n",
    "    4)Iterator uses iter() and next() functions.\n",
    "    5)Every iterator is not a generator\n",
    "Generator\n",
    "    1)Function is used to implement a generator.\n",
    "    2)All the local variables before the yield function are stored. \n",
    "    3)Generators are mostly used in loops to generate an iterator by \n",
    "    returning all the values in the loop without affecting the iteration \n",
    "    of the loop.\n",
    "    4)Generator uses yield keyword\n",
    "    5)\tEvery generator is an iterator"
   ]
  },
  {
   "cell_type": "code",
   "execution_count": 109,
   "metadata": {},
   "outputs": [],
   "source": [
    "#4)\n",
    "The heart of a generator function is the yield keyword. \n",
    "In its simplest form, a yield statement looks much like a\n",
    "return statement, except that instead of stopping execution \n",
    "of the function and returning, yield instead provides a value \n",
    "to the code looping over the generator and pauses execution of\n",
    "the generator function."
   ]
  },
  {
   "cell_type": "code",
   "execution_count": 111,
   "metadata": {},
   "outputs": [],
   "source": [
    "#5)\n",
    "list:\n",
    "    1)List comprehension is more concise and easier to read as\n",
    "    compared to map.\n",
    "    2)List comprehension allows filtering. In map, we have no such facility.\n",
    "    3)List comprehension are used when a list of results is required as map \n",
    "    only returns a map object and does not return any list.\n",
    "    4)List comprehension is faster than map when we need to evaluate\n",
    "    expressions that are too long or complicated to express.\n",
    "Map:\n",
    "    1)Map is faster in case of calling an already defined function\n",
    "    (as no lambda is required).\n",
    "    2)Syntax: map(funcname, iterables)\n",
    "    3)funcname: It is the name of the function which is already defined and \n",
    "    is to be executed for each item.\n",
    "    4)iterables: It can be list, tuples or any other iterable object.\n",
    "    5)Return Type: Returns a map object after applying the given function to\n",
    "    each item of a given iterable (list, tuple etc.)"
   ]
  }
 ],
 "metadata": {
  "kernelspec": {
   "display_name": "Python 3",
   "language": "python",
   "name": "python3"
  },
  "language_info": {
   "codemirror_mode": {
    "name": "ipython",
    "version": 3
   },
   "file_extension": ".py",
   "mimetype": "text/x-python",
   "name": "python",
   "nbconvert_exporter": "python",
   "pygments_lexer": "ipython3",
   "version": "3.8.5"
  }
 },
 "nbformat": 4,
 "nbformat_minor": 4
}
