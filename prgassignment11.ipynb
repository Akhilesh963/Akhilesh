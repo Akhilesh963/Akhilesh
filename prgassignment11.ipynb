{
 "cells": [
  {
   "cell_type": "code",
   "execution_count": null,
   "metadata": {},
   "outputs": [],
   "source": [
    "1) Write a Python program to find words which are greater than given length k?"
   ]
  },
  {
   "cell_type": "code",
   "execution_count": 46,
   "metadata": {},
   "outputs": [],
   "source": [
    "class Greater_word:\n",
    "    def long_words(self , n,str):\n",
    "            n=int(input(\"enter a number:\"))\n",
    "            str=input(\"Enter a sentence:\")\n",
    "            word_len = []\n",
    "            txt = str.split(\" \")\n",
    "            for x in txt:\n",
    "                if len(x) > n:\n",
    "                    word_len.append(x)\n",
    "            \n",
    "            return word_len"
   ]
  },
  {
   "cell_type": "code",
   "execution_count": 47,
   "metadata": {},
   "outputs": [],
   "source": [
    "word=Greater_word"
   ]
  },
  {
   "cell_type": "code",
   "execution_count": 49,
   "metadata": {},
   "outputs": [
    {
     "name": "stdout",
     "output_type": "stream",
     "text": [
      "enter a number:4\n",
      "Enter a sentence:Write a Python program to find words which are greater\n"
     ]
    },
    {
     "data": {
      "text/plain": [
       "['Write', 'Python', 'program', 'words', 'which', 'greater']"
      ]
     },
     "execution_count": 49,
     "metadata": {},
     "output_type": "execute_result"
    }
   ],
   "source": [
    "word.long_words(1,2,3)"
   ]
  },
  {
   "cell_type": "code",
   "execution_count": null,
   "metadata": {},
   "outputs": [],
   "source": []
  },
  {
   "cell_type": "code",
   "execution_count": 54,
   "metadata": {},
   "outputs": [],
   "source": [
    "class Removerchar:\n",
    "    def remove_char(str, n):\n",
    "        str=input(\"Enter a word:\")\n",
    "        n=int(input(\"enter a number:\"))\n",
    "        first_part = str[:n] \n",
    "        last_part = str[n+1:]\n",
    "        return first_part + last_part"
   ]
  },
  {
   "cell_type": "code",
   "execution_count": 55,
   "metadata": {},
   "outputs": [],
   "source": [
    "Remove=Removerchar"
   ]
  },
  {
   "cell_type": "code",
   "execution_count": 56,
   "metadata": {},
   "outputs": [
    {
     "name": "stdout",
     "output_type": "stream",
     "text": [
      "Enter a word:PhythonProgram\n",
      "enter a number:4\n"
     ]
    },
    {
     "data": {
      "text/plain": [
       "'PhytonProgram'"
      ]
     },
     "execution_count": 56,
     "metadata": {},
     "output_type": "execute_result"
    }
   ],
   "source": [
    "Remove.remove_char(1,2)"
   ]
  },
  {
   "cell_type": "code",
   "execution_count": null,
   "metadata": {},
   "outputs": [],
   "source": []
  },
  {
   "cell_type": "code",
   "execution_count": 158,
   "metadata": {},
   "outputs": [],
   "source": [
    "class SplitandJoin:\n",
    "    def sp_joi(srt1):\n",
    "        srt1=input(\"Enter 1st a words:\")\n",
    "        wds=srt1.split()\n",
    "        print(wds)\n",
    "    def Joi_word(str1):\n",
    "        srt2=input(\"Enter 1st a words:\")\n",
    "        A=\"*\"\n",
    "        J=A.join(srt2)\n",
    "        print(J)"
   ]
  },
  {
   "cell_type": "code",
   "execution_count": 159,
   "metadata": {},
   "outputs": [],
   "source": [
    "Splndjoin=SplitandJoin"
   ]
  },
  {
   "cell_type": "code",
   "execution_count": 161,
   "metadata": {},
   "outputs": [
    {
     "name": "stdout",
     "output_type": "stream",
     "text": [
      "Enter 1st a words:srt1=input(\"Enter 1st a words:\")\n",
      "['srt1=input(\"Enter', '1st', 'a', 'words:\")']\n"
     ]
    }
   ],
   "source": [
    "Splndjoin.sp_joi(1)"
   ]
  },
  {
   "cell_type": "code",
   "execution_count": 162,
   "metadata": {},
   "outputs": [
    {
     "name": "stdout",
     "output_type": "stream",
     "text": [
      "Enter 1st a words:srt1=input(\"Enter 1st a words:\")\n",
      "s*r*t*1*=*i*n*p*u*t*(*\"*E*n*t*e*r* *1*s*t* *a* *w*o*r*d*s*:*\"*)\n"
     ]
    }
   ],
   "source": [
    "Splndjoin.Joi_word(1)"
   ]
  },
  {
   "cell_type": "code",
   "execution_count": null,
   "metadata": {},
   "outputs": [],
   "source": []
  },
  {
   "cell_type": "code",
   "execution_count": 171,
   "metadata": {},
   "outputs": [],
   "source": [
    "class Binary_check:\n",
    "    def check(string) :\n",
    "        p = set(string)\n",
    "        s = {'0', '1'}\n",
    "        if s == p or p == {'0'} or p == {'1'}:\n",
    "            print(\"Yes\")\n",
    "        else :\n",
    "            print(\"No\")"
   ]
  },
  {
   "cell_type": "code",
   "execution_count": 172,
   "metadata": {},
   "outputs": [],
   "source": [
    "Check=Binary_check"
   ]
  },
  {
   "cell_type": "code",
   "execution_count": 181,
   "metadata": {},
   "outputs": [
    {
     "name": "stdout",
     "output_type": "stream",
     "text": [
      "Yes\n"
     ]
    }
   ],
   "source": [
    "Check.check(\"010010\")"
   ]
  },
  {
   "cell_type": "code",
   "execution_count": null,
   "metadata": {},
   "outputs": [],
   "source": []
  },
  {
   "cell_type": "code",
   "execution_count": 189,
   "metadata": {},
   "outputs": [
    {
     "name": "stdout",
     "output_type": "stream",
     "text": [
      "The uncommon words in strings are: ['Tutorials', 'Python']\n"
     ]
    }
   ],
   "source": [
    "def find(A, B):\n",
    "    count = {}\n",
    "    for word in A.split():\n",
    "        count[word] = count.get(word,0) + 1\n",
    "        for word in B.split():\n",
    "            count[word] = count.get(word, 0) + 1\n",
    "            return [word for word in count if count[word] == 1]\n",
    "\n",
    "A = \"Tutorials point \"\n",
    "B = \"Python on Tutorials point\"\n",
    "print(\"The uncommon words in strings are:\",find(A, B))"
   ]
  },
  {
   "cell_type": "code",
   "execution_count": null,
   "metadata": {},
   "outputs": [],
   "source": []
  },
  {
   "cell_type": "code",
   "execution_count": 191,
   "metadata": {},
   "outputs": [
    {
     "name": "stdout",
     "output_type": "stream",
     "text": [
      "Duplicate characters in a given string: \n",
      "retsi"
     ]
    }
   ],
   "source": [
    "string = \"Great responsibility\";  \n",
    "   \n",
    "print(\"Duplicate characters in a given string: \");  \n",
    "\n",
    "for i in range(0, len(string)):  \n",
    "    count = 1;  \n",
    "    for j in range(i+1, len(string)):  \n",
    "        if(string[i] == string[j] and string[i] != ' '):  \n",
    "            count = count + 1;  \n",
    " \n",
    "            string = string[:j] + '0' + string[j+1:];  \n",
    "   \n",
    " \n",
    "    if(count > 1 and string[i] != '0'):  \n",
    "        print(string[i],end=\"\"); "
   ]
  },
  {
   "cell_type": "code",
   "execution_count": null,
   "metadata": {},
   "outputs": [],
   "source": []
  },
  {
   "cell_type": "code",
   "execution_count": 193,
   "metadata": {},
   "outputs": [
    {
     "name": "stdout",
     "output_type": "stream",
     "text": [
      "String is not accepted.\n"
     ]
    }
   ],
   "source": [
    "import re\n",
    "def run(string):\n",
    "    regex = re.compile('[@_!#$%^&*()<>?/\\|}{~:]')   \n",
    "    if(regex.search(string) == None):\n",
    "        print(\"String is accepted\")\n",
    "          \n",
    "    else:\n",
    "        print(\"String is not accepted.\")\n",
    "if __name__ == '__main__' :\n",
    "    string = \"Geeks$For$Geeks\"\n",
    "    run(string)"
   ]
  },
  {
   "cell_type": "code",
   "execution_count": null,
   "metadata": {},
   "outputs": [],
   "source": []
  }
 ],
 "metadata": {
  "kernelspec": {
   "display_name": "Python 3",
   "language": "python",
   "name": "python3"
  },
  "language_info": {
   "codemirror_mode": {
    "name": "ipython",
    "version": 3
   },
   "file_extension": ".py",
   "mimetype": "text/x-python",
   "name": "python",
   "nbconvert_exporter": "python",
   "pygments_lexer": "ipython3",
   "version": "3.8.5"
  }
 },
 "nbformat": 4,
 "nbformat_minor": 4
}
